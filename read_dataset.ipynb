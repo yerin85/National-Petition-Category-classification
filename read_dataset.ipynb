{
  "nbformat": 4,
  "nbformat_minor": 0,
  "metadata": {
    "colab": {
      "name": "read_dataset",
      "provenance": [],
      "collapsed_sections": [],
      "toc_visible": true,
      "include_colab_link": true
    },
    "kernelspec": {
      "name": "python3",
      "display_name": "Python 3"
    }
  },
  "cells": [
    {
      "cell_type": "markdown",
      "metadata": {
        "id": "view-in-github",
        "colab_type": "text"
      },
      "source": [
        "<a href=\"https://colab.research.google.com/github/yerin85/National-Petition-Category-classification/blob/main/read_dataset.ipynb\" target=\"_parent\"><img src=\"https://colab.research.google.com/assets/colab-badge.svg\" alt=\"Open In Colab\"/></a>"
      ]
    },
    {
      "cell_type": "code",
      "metadata": {
        "id": "xH6xh5nCPND8",
        "outputId": "c3056d4e-3844-4674-ba49-f36c359d3b52",
        "colab": {
          "base_uri": "https://localhost:8080/"
        }
      },
      "source": [
        "from google.colab import drive\n",
        "drive.mount('/content/drive')"
      ],
      "execution_count": null,
      "outputs": [
        {
          "output_type": "stream",
          "text": [
            "Drive already mounted at /content/drive; to attempt to forcibly remount, call drive.mount(\"/content/drive\", force_remount=True).\n"
          ],
          "name": "stdout"
        }
      ]
    },
    {
      "cell_type": "code",
      "metadata": {
        "id": "dvk8zyZ1ujcD",
        "outputId": "ae43e1e2-76b6-45f0-9f22-42d319302cfe",
        "colab": {
          "base_uri": "https://localhost:8080/"
        }
      },
      "source": [
        "#git에 있는 과거 데이터셋 clone\n",
        "!git clone https://github.com/lovit/petitions_dataset.git"
      ],
      "execution_count": null,
      "outputs": [
        {
          "output_type": "stream",
          "text": [
            "Cloning into 'petitions_dataset'...\n",
            "remote: Enumerating objects: 20, done.\u001b[K\n",
            "remote: Counting objects: 100% (20/20), done.\u001b[K\n",
            "remote: Compressing objects: 100% (15/15), done.\u001b[K\n",
            "remote: Total 112 (delta 5), reused 15 (delta 5), pack-reused 92\u001b[K\n",
            "Receiving objects: 100% (112/112), 20.29 KiB | 1.07 MiB/s, done.\n",
            "Resolving deltas: 100% (53/53), done.\n"
          ],
          "name": "stdout"
        }
      ]
    },
    {
      "cell_type": "code",
      "metadata": {
        "id": "rcN3zmTrut7P",
        "outputId": "03eb5862-d30e-4d57-bd15-ec59f6b6db79",
        "colab": {
          "base_uri": "https://localhost:8080/"
        }
      },
      "source": [
        "cd petitions_dataset"
      ],
      "execution_count": null,
      "outputs": [
        {
          "output_type": "stream",
          "text": [
            "/content/drive/My Drive/TLO/petitions_dataset\n"
          ],
          "name": "stdout"
        }
      ]
    },
    {
      "cell_type": "code",
      "metadata": {
        "id": "lbEvaxPNu17f"
      },
      "source": [
        "!python setup.py install"
      ],
      "execution_count": null,
      "outputs": []
    },
    {
      "cell_type": "code",
      "metadata": {
        "id": "jvPpaQKNu2G2",
        "outputId": "8c734478-94ef-404f-de50-d604df9572de",
        "colab": {
          "base_uri": "https://localhost:8080/"
        }
      },
      "source": [
        "from petitions_dataset import fetch\n",
        "\n",
        "%cd '/content/drive/My Drive/TLO'\n",
        "data_dir ='/content/drive/My Drive/TLO/downloaded_petitions'\n",
        "\n",
        "%cd 'downloaded_petitions'\n",
        "\n",
        "fetch(data_dir)"
      ],
      "execution_count": null,
      "outputs": [
        {
          "output_type": "stream",
          "text": [
            "/content/drive/My Drive/TLO\n",
            "/content/drive/My Drive/TLO/downloaded_petitions\n",
            "It needs about 0.65 GB storage. Continue to download? ([Y]es, [N]o)\n",
            "Y\n",
            "All data are downloaded\n"
          ],
          "name": "stdout"
        }
      ]
    },
    {
      "cell_type": "code",
      "metadata": {
        "id": "NheCdgV3zBks"
      },
      "source": [
        "import pandas as pd\n",
        "import numpy as np\n",
        "import re"
      ],
      "execution_count": null,
      "outputs": []
    },
    {
      "cell_type": "code",
      "metadata": {
        "id": "krCwy9vlwNxs",
        "outputId": "2635e7b7-f9ba-40a1-f509-ec7dbbef8970",
        "colab": {
          "base_uri": "https://localhost:8080/"
        }
      },
      "source": [
        "from petitions_dataset import Petitions\n",
        "\n",
        "#2017~2019 데이터 중 이용할 청원 기간 설정(yyyy-mm-dd)\n",
        "petitions = Petitions(data_dir, begin_date='2017-08-01', end_date='2019-08-31')\n",
        "\n",
        "len(petitions)"
      ],
      "execution_count": null,
      "outputs": [
        {
          "output_type": "execute_result",
          "data": {
            "text/plain": [
              "436660"
            ]
          },
          "metadata": {
            "tags": []
          },
          "execution_count": 41
        }
      ]
    },
    {
      "cell_type": "code",
      "metadata": {
        "id": "8rdTQX6Awszf"
      },
      "source": [
        "#['category', 'begin', 'end', 'content', 'num_agree', 'petition_idx', 'status', 'title', 'replies']\n",
        "\n",
        "\n",
        "import csv\n",
        "\n",
        "#set_keys 매개변수 값에 위에 내가 원하는 항목 작성\n",
        "petitions.set_keys('category', 'content', 'num_agree')\n",
        "\n",
        "#csv파일로 변환\n",
        "with open('/content/drive/My Drive/TLO/train_dataset.csv', 'w', newline='') as csvfile:\n",
        "    writer = csv.writer(csvfile)\n",
        "    writer.writerow([\"category\",\"content\"])\n",
        "    for category, content, num_agree in petitions:\n",
        "        if num_agree > 10:\n",
        "            list = [category, content]\n",
        "            writer.writerow(list)"
      ],
      "execution_count": null,
      "outputs": []
    },
    {
      "cell_type": "code",
      "metadata": {
        "id": "Ihuq61-kar4F",
        "outputId": "91b2c41f-963b-46c5-dfc2-d4e77ef6c596",
        "colab": {
          "base_uri": "https://localhost:8080/"
        }
      },
      "source": [
        "write_test = pd.read_csv('/content/drive/My Drive/TLO/train_dataset.csv')\n",
        "print(write_test['category'])"
      ],
      "execution_count": null,
      "outputs": [
        {
          "output_type": "stream",
          "text": [
            "0            육아/교육\n",
            "1            육아/교육\n",
            "2           인권/성평등\n",
            "3            안전/환경\n",
            "4            육아/교육\n",
            "            ...   \n",
            "146715          기타\n",
            "146716        정치개혁\n",
            "146717          기타\n",
            "146718    외교/통일/국방\n",
            "146719          행정\n",
            "Name: category, Length: 146720, dtype: object\n"
          ],
          "name": "stdout"
        }
      ]
    }
  ]
}