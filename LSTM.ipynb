{
  "nbformat": 4,
  "nbformat_minor": 0,
  "metadata": {
    "accelerator": "GPU",
    "colab": {
      "name": "LSTM.ipynb",
      "provenance": [],
      "collapsed_sections": [],
      "authorship_tag": "ABX9TyN/xR1ktJK3rPR1RaJdF78d",
      "include_colab_link": true
    },
    "kernelspec": {
      "display_name": "Python 3",
      "name": "python3"
    }
  },
  "cells": [
    {
      "cell_type": "markdown",
      "metadata": {
        "id": "view-in-github",
        "colab_type": "text"
      },
      "source": [
        "<a href=\"https://colab.research.google.com/github/yerin85/National-Petition-Category-classification/blob/main/LSTM.ipynb\" target=\"_parent\"><img src=\"https://colab.research.google.com/assets/colab-badge.svg\" alt=\"Open In Colab\"/></a>"
      ]
    },
    {
      "cell_type": "markdown",
      "metadata": {
        "id": "1ioUyxYs2pQN"
      },
      "source": [
        "# **1. 기본 설정**\n",
        "\n"
      ]
    },
    {
      "cell_type": "code",
      "metadata": {
        "id": "F5ROgniTqfqp"
      },
      "source": [
        "\n",
        "from google.colab import drive \n",
        "\n",
        "drive.mount('/content/gdrive/')"
      ],
      "execution_count": null,
      "outputs": []
    },
    {
      "cell_type": "code",
      "metadata": {
        "colab": {
          "base_uri": "https://localhost:8080/"
        },
        "id": "xF5REg4MrE0n",
        "outputId": "0092e50b-6b14-4c96-c7a8-e6dfcb6cf9b5"
      },
      "source": [
        "!pip install konlpy"
      ],
      "execution_count": null,
      "outputs": [
        {
          "output_type": "stream",
          "text": [
            "Collecting konlpy\n",
            "\u001b[?25l  Downloading https://files.pythonhosted.org/packages/85/0e/f385566fec837c0b83f216b2da65db9997b35dd675e107752005b7d392b1/konlpy-0.5.2-py2.py3-none-any.whl (19.4MB)\n",
            "\u001b[K     |████████████████████████████████| 19.4MB 1.2MB/s \n",
            "\u001b[?25hRequirement already satisfied: numpy>=1.6 in /usr/local/lib/python3.6/dist-packages (from konlpy) (1.18.5)\n",
            "Collecting tweepy>=3.7.0\n",
            "  Downloading https://files.pythonhosted.org/packages/bb/7c/99d51f80f3b77b107ebae2634108717362c059a41384a1810d13e2429a81/tweepy-3.9.0-py2.py3-none-any.whl\n",
            "Collecting colorama\n",
            "  Downloading https://files.pythonhosted.org/packages/44/98/5b86278fbbf250d239ae0ecb724f8572af1c91f4a11edf4d36a206189440/colorama-0.4.4-py2.py3-none-any.whl\n",
            "Collecting beautifulsoup4==4.6.0\n",
            "\u001b[?25l  Downloading https://files.pythonhosted.org/packages/9e/d4/10f46e5cfac773e22707237bfcd51bbffeaf0a576b0a847ec7ab15bd7ace/beautifulsoup4-4.6.0-py3-none-any.whl (86kB)\n",
            "\u001b[K     |████████████████████████████████| 92kB 11.8MB/s \n",
            "\u001b[?25hRequirement already satisfied: lxml>=4.1.0 in /usr/local/lib/python3.6/dist-packages (from konlpy) (4.2.6)\n",
            "Collecting JPype1>=0.7.0\n",
            "\u001b[?25l  Downloading https://files.pythonhosted.org/packages/fd/96/1030895dea70855a2e1078e3fe0d6a63dcb7c212309e07dc9ee39d33af54/JPype1-1.1.2-cp36-cp36m-manylinux2010_x86_64.whl (450kB)\n",
            "\u001b[K     |████████████████████████████████| 460kB 59.8MB/s \n",
            "\u001b[?25hRequirement already satisfied: requests[socks]>=2.11.1 in /usr/local/lib/python3.6/dist-packages (from tweepy>=3.7.0->konlpy) (2.23.0)\n",
            "Requirement already satisfied: requests-oauthlib>=0.7.0 in /usr/local/lib/python3.6/dist-packages (from tweepy>=3.7.0->konlpy) (1.3.0)\n",
            "Requirement already satisfied: six>=1.10.0 in /usr/local/lib/python3.6/dist-packages (from tweepy>=3.7.0->konlpy) (1.15.0)\n",
            "Requirement already satisfied: typing-extensions; python_version < \"3.8\" in /usr/local/lib/python3.6/dist-packages (from JPype1>=0.7.0->konlpy) (3.7.4.3)\n",
            "Requirement already satisfied: certifi>=2017.4.17 in /usr/local/lib/python3.6/dist-packages (from requests[socks]>=2.11.1->tweepy>=3.7.0->konlpy) (2020.6.20)\n",
            "Requirement already satisfied: chardet<4,>=3.0.2 in /usr/local/lib/python3.6/dist-packages (from requests[socks]>=2.11.1->tweepy>=3.7.0->konlpy) (3.0.4)\n",
            "Requirement already satisfied: idna<3,>=2.5 in /usr/local/lib/python3.6/dist-packages (from requests[socks]>=2.11.1->tweepy>=3.7.0->konlpy) (2.10)\n",
            "Requirement already satisfied: urllib3!=1.25.0,!=1.25.1,<1.26,>=1.21.1 in /usr/local/lib/python3.6/dist-packages (from requests[socks]>=2.11.1->tweepy>=3.7.0->konlpy) (1.24.3)\n",
            "Requirement already satisfied: PySocks!=1.5.7,>=1.5.6; extra == \"socks\" in /usr/local/lib/python3.6/dist-packages (from requests[socks]>=2.11.1->tweepy>=3.7.0->konlpy) (1.7.1)\n",
            "Requirement already satisfied: oauthlib>=3.0.0 in /usr/local/lib/python3.6/dist-packages (from requests-oauthlib>=0.7.0->tweepy>=3.7.0->konlpy) (3.1.0)\n",
            "Installing collected packages: tweepy, colorama, beautifulsoup4, JPype1, konlpy\n",
            "  Found existing installation: tweepy 3.6.0\n",
            "    Uninstalling tweepy-3.6.0:\n",
            "      Successfully uninstalled tweepy-3.6.0\n",
            "  Found existing installation: beautifulsoup4 4.6.3\n",
            "    Uninstalling beautifulsoup4-4.6.3:\n",
            "      Successfully uninstalled beautifulsoup4-4.6.3\n",
            "Successfully installed JPype1-1.1.2 beautifulsoup4-4.6.0 colorama-0.4.4 konlpy-0.5.2 tweepy-3.9.0\n"
          ],
          "name": "stdout"
        }
      ]
    },
    {
      "cell_type": "code",
      "metadata": {
        "id": "YsQP5QkMrEjb"
      },
      "source": [
        "import pandas as pd\n",
        "import urllib.request\n",
        "%matplotlib inline\n",
        "import matplotlib.pyplot as plt\n",
        "import re\n",
        "from konlpy.tag import Okt\n",
        "from tensorflow.keras.preprocessing.text import Tokenizer\n",
        "import numpy as np\n",
        "from tensorflow.keras.preprocessing.sequence import pad_sequences\n",
        "import os\n",
        "from tensorflow.keras.datasets import reuters\n",
        "from tensorflow.keras.models import Sequential\n",
        "from tensorflow.keras.layers import Dense, LSTM, Embedding\n",
        "from tensorflow.keras.preprocessing.sequence import pad_sequences\n",
        "from tensorflow.keras.utils import to_categorical\n",
        "from tensorflow.keras.models import load_model\n",
        "from tqdm import tqdm"
      ],
      "execution_count": null,
      "outputs": []
    },
    {
      "cell_type": "markdown",
      "metadata": {
        "id": "8KVImxlk2gHZ"
      },
      "source": [
        "# **2. 데이터 불러오기**"
      ]
    },
    {
      "cell_type": "code",
      "metadata": {
        "id": "xPL_cYYfrLcl"
      },
      "source": [
        "train = pd.read_csv('/content/gdrive/My Drive/TLO/train_dataset.csv', encoding = 'utf-8')\n",
        "test = pd.read_excel('/content/gdrive/My Drive/TLO/webcrawling_data.xlsx')"
      ],
      "execution_count": null,
      "outputs": []
    },
    {
      "cell_type": "code",
      "metadata": {
        "colab": {
          "base_uri": "https://localhost:8080/",
          "height": 402
        },
        "id": "C0_BHVGdruYE",
        "outputId": "df0954ac-2d59-4b78-f98c-9ff54164bb07"
      },
      "source": [
        "train"
      ],
      "execution_count": null,
      "outputs": [
        {
          "output_type": "execute_result",
          "data": {
            "text/html": [
              "<div>\n",
              "<style scoped>\n",
              "    .dataframe tbody tr th:only-of-type {\n",
              "        vertical-align: middle;\n",
              "    }\n",
              "\n",
              "    .dataframe tbody tr th {\n",
              "        vertical-align: top;\n",
              "    }\n",
              "\n",
              "    .dataframe thead th {\n",
              "        text-align: right;\n",
              "    }\n",
              "</style>\n",
              "<table border=\"1\" class=\"dataframe\">\n",
              "  <thead>\n",
              "    <tr style=\"text-align: right;\">\n",
              "      <th></th>\n",
              "      <th>category</th>\n",
              "      <th>content</th>\n",
              "    </tr>\n",
              "  </thead>\n",
              "  <tbody>\n",
              "    <tr>\n",
              "      <th>0</th>\n",
              "      <td>육아/교육</td>\n",
              "      <td>안녕하세요. 현재 사대, 교대 등 교원양성학교들의 예비교사들이 임용절벽에 매우 힘들...</td>\n",
              "    </tr>\n",
              "    <tr>\n",
              "      <th>1</th>\n",
              "      <td>육아/교육</td>\n",
              "      <td>대통령님^^ 민주주의 사회에서는 국공립과 사립은 공존하여 서로 경쟁 발전해야하며 시...</td>\n",
              "    </tr>\n",
              "    <tr>\n",
              "      <th>2</th>\n",
              "      <td>인권/성평등</td>\n",
              "      <td>기간제 교사 쪼개기 계약 시정 부탁드립니다. 현재 많은 기간제 선생님들이 1년 계약...</td>\n",
              "    </tr>\n",
              "    <tr>\n",
              "      <th>3</th>\n",
              "      <td>안전/환경</td>\n",
              "      <td>안녕하세요. 초등학교 아이를 둔 주부입니다. GMO에 대해서 저도 알게 된건 1년정...</td>\n",
              "    </tr>\n",
              "    <tr>\n",
              "      <th>4</th>\n",
              "      <td>육아/교육</td>\n",
              "      <td>★★★ 민간,가정 모든 사립영유아교육기관의 나아갈길!!!★★★ 국민은 법 앞에 평등...</td>\n",
              "    </tr>\n",
              "    <tr>\n",
              "      <th>...</th>\n",
              "      <td>...</td>\n",
              "      <td>...</td>\n",
              "    </tr>\n",
              "    <tr>\n",
              "      <th>146715</th>\n",
              "      <td>기타</td>\n",
              "      <td>범죄자와 주인의 주종관계(고용주와 고용인)를 뒤집어 판결을 선고한 재판에 관여한 대...</td>\n",
              "    </tr>\n",
              "    <tr>\n",
              "      <th>146716</th>\n",
              "      <td>정치개혁</td>\n",
              "      <td>국회의원님들 \"인사청문회\"를 거쳐서 총선출마 하도록 국민청원법을 제정하면 좋을듯 합...</td>\n",
              "    </tr>\n",
              "    <tr>\n",
              "      <th>146717</th>\n",
              "      <td>기타</td>\n",
              "      <td>문재인 대통령님께 청원합니다. 저는 딸 아이를 둔 사십대 가장입니다. 촛불시민의 일...</td>\n",
              "    </tr>\n",
              "    <tr>\n",
              "      <th>146718</th>\n",
              "      <td>외교/통일/국방</td>\n",
              "      <td>백의민족 한겨레의 국민염원 남북통일 두려움에 벌벌떠는 쪽섬왜구 검은속내 우리들의 참...</td>\n",
              "    </tr>\n",
              "    <tr>\n",
              "      <th>146719</th>\n",
              "      <td>행정</td>\n",
              "      <td>7월2일 아들이 친구집에 놀러갔다가 그곳에온 친구아는형에게 감금,협박, 폭행을 당했...</td>\n",
              "    </tr>\n",
              "  </tbody>\n",
              "</table>\n",
              "<p>146720 rows × 2 columns</p>\n",
              "</div>"
            ],
            "text/plain": [
              "        category                                            content\n",
              "0          육아/교육  안녕하세요. 현재 사대, 교대 등 교원양성학교들의 예비교사들이 임용절벽에 매우 힘들...\n",
              "1          육아/교육  대통령님^^ 민주주의 사회에서는 국공립과 사립은 공존하여 서로 경쟁 발전해야하며 시...\n",
              "2         인권/성평등  기간제 교사 쪼개기 계약 시정 부탁드립니다. 현재 많은 기간제 선생님들이 1년 계약...\n",
              "3          안전/환경  안녕하세요. 초등학교 아이를 둔 주부입니다. GMO에 대해서 저도 알게 된건 1년정...\n",
              "4          육아/교육  ★★★ 민간,가정 모든 사립영유아교육기관의 나아갈길!!!★★★ 국민은 법 앞에 평등...\n",
              "...          ...                                                ...\n",
              "146715        기타  범죄자와 주인의 주종관계(고용주와 고용인)를 뒤집어 판결을 선고한 재판에 관여한 대...\n",
              "146716      정치개혁  국회의원님들 \"인사청문회\"를 거쳐서 총선출마 하도록 국민청원법을 제정하면 좋을듯 합...\n",
              "146717        기타  문재인 대통령님께 청원합니다. 저는 딸 아이를 둔 사십대 가장입니다. 촛불시민의 일...\n",
              "146718  외교/통일/국방  백의민족 한겨레의 국민염원 남북통일 두려움에 벌벌떠는 쪽섬왜구 검은속내 우리들의 참...\n",
              "146719        행정  7월2일 아들이 친구집에 놀러갔다가 그곳에온 친구아는형에게 감금,협박, 폭행을 당했...\n",
              "\n",
              "[146720 rows x 2 columns]"
            ]
          },
          "metadata": {
            "tags": []
          },
          "execution_count": 5
        }
      ]
    },
    {
      "cell_type": "code",
      "metadata": {
        "colab": {
          "base_uri": "https://localhost:8080/",
          "height": 553
        },
        "id": "vSRniKCyrzg8",
        "outputId": "ae54e155-aabf-4f32-a61b-5af331377881"
      },
      "source": [
        "test"
      ],
      "execution_count": null,
      "outputs": [
        {
          "output_type": "execute_result",
          "data": {
            "text/html": [
              "<div>\n",
              "<style scoped>\n",
              "    .dataframe tbody tr th:only-of-type {\n",
              "        vertical-align: middle;\n",
              "    }\n",
              "\n",
              "    .dataframe tbody tr th {\n",
              "        vertical-align: top;\n",
              "    }\n",
              "\n",
              "    .dataframe thead th {\n",
              "        text-align: right;\n",
              "    }\n",
              "</style>\n",
              "<table border=\"1\" class=\"dataframe\">\n",
              "  <thead>\n",
              "    <tr style=\"text-align: right;\">\n",
              "      <th></th>\n",
              "      <th>category</th>\n",
              "      <th>title</th>\n",
              "      <th>contents</th>\n",
              "    </tr>\n",
              "  </thead>\n",
              "  <tbody>\n",
              "    <tr>\n",
              "      <th>0</th>\n",
              "      <td>정치개혁</td>\n",
              "      <td>커밍아웃검사 사표 받으십시오!</td>\n",
              "      <td>커밍아웃검사 사표 받으십시오!!!!\\n\\n정치인 총장이 검찰을 정치로 덮어 망치고 ...</td>\n",
              "    </tr>\n",
              "    <tr>\n",
              "      <th>1</th>\n",
              "      <td>육아/교육</td>\n",
              "      <td>울산 동구에서 발생한 끔찍한 어린이집 학대 사건, 가해교사는 원장의 딸</td>\n",
              "      <td>저희는 울산 동구에 살고 있는 6세 남자아이의 부모입니다.\\n저희 아이는 작년 5세...</td>\n",
              "    </tr>\n",
              "    <tr>\n",
              "      <th>2</th>\n",
              "      <td>기타</td>\n",
              "      <td>2019.06.30. 발생된 가평 익사사건의 진실을 밝혀주세요</td>\n",
              "      <td>[ 2019.06.30. 발생된 가평 익사사건의 진실을 밝혀주세요 ]\\n\\n안녕하세...</td>\n",
              "    </tr>\n",
              "    <tr>\n",
              "      <th>3</th>\n",
              "      <td>정치개혁</td>\n",
              "      <td>정경심 교수님은 무죄입니다.</td>\n",
              "      <td>오늘 서울중앙지법 형사합의 25-2부\\n(부장판사 임정엽.권성수. 김선희)심리로 열...</td>\n",
              "    </tr>\n",
              "    <tr>\n",
              "      <th>4</th>\n",
              "      <td>정치개혁</td>\n",
              "      <td>라임, 옵티머스 사태 특별검사 도입하라!!</td>\n",
              "      <td>라임사태, 옵티머스 사태는\\n전국민을 대상으로 수조원의 사기를 벌인\\n초대형 사기극...</td>\n",
              "    </tr>\n",
              "    <tr>\n",
              "      <th>...</th>\n",
              "      <td>...</td>\n",
              "      <td>...</td>\n",
              "      <td>...</td>\n",
              "    </tr>\n",
              "    <tr>\n",
              "      <th>547</th>\n",
              "      <td>행정</td>\n",
              "      <td>국정철학에 맞게 공정한 체육관 운영대책을 세워주세요.</td>\n",
              "      <td>20-10-30 ~ 20-11-29\\n\\n\\n\\n\\n\\n촛불혁명을 위해 촛불을 들었...</td>\n",
              "    </tr>\n",
              "    <tr>\n",
              "      <th>548</th>\n",
              "      <td>기타</td>\n",
              "      <td>제주도 미등기 농가주택 임차인 미보호에 관한 보고</td>\n",
              "      <td>'안녕하세요. 시청 뒷쪽에서 소바가게 하고 있습니다.'\\n\\n 우려 했던 것보다 첫...</td>\n",
              "    </tr>\n",
              "    <tr>\n",
              "      <th>549</th>\n",
              "      <td>일자리</td>\n",
              "      <td>지방할달, 지역인재 50%까지 확대, 다시한번 생각해 주십시오.</td>\n",
              "      <td>30일 이낙연 민주당 대표는 지방할당을 50%까지 늘리는 방안을 검토중이라고 발표하...</td>\n",
              "    </tr>\n",
              "    <tr>\n",
              "      <th>550</th>\n",
              "      <td>안전/환경</td>\n",
              "      <td>동대문구 전농동 배봉산둘레길 계단불편문의 (배봉초등학교 후문쪽)와 공원시설마련 건의내</td>\n",
              "      <td>서울 동대문구 배봉초등학교 후문쪽에 있는 배봉산 올라가는 길은  매우 가파른 200...</td>\n",
              "    </tr>\n",
              "    <tr>\n",
              "      <th>551</th>\n",
              "      <td>인권/성평등</td>\n",
              "      <td>**산업진흥원의 갑질을 고발합니다.</td>\n",
              "      <td>저는 **타워 관리단의 대표위원중 1명입니다.\\n대표위원은 **산업진흥원 3명 + ...</td>\n",
              "    </tr>\n",
              "  </tbody>\n",
              "</table>\n",
              "<p>552 rows × 3 columns</p>\n",
              "</div>"
            ],
            "text/plain": [
              "    category  ...                                           contents\n",
              "0       정치개혁  ...  커밍아웃검사 사표 받으십시오!!!!\\n\\n정치인 총장이 검찰을 정치로 덮어 망치고 ...\n",
              "1      육아/교육  ...  저희는 울산 동구에 살고 있는 6세 남자아이의 부모입니다.\\n저희 아이는 작년 5세...\n",
              "2         기타  ...  [ 2019.06.30. 발생된 가평 익사사건의 진실을 밝혀주세요 ]\\n\\n안녕하세...\n",
              "3       정치개혁  ...  오늘 서울중앙지법 형사합의 25-2부\\n(부장판사 임정엽.권성수. 김선희)심리로 열...\n",
              "4       정치개혁  ...  라임사태, 옵티머스 사태는\\n전국민을 대상으로 수조원의 사기를 벌인\\n초대형 사기극...\n",
              "..       ...  ...                                                ...\n",
              "547       행정  ...  20-10-30 ~ 20-11-29\\n\\n\\n\\n\\n\\n촛불혁명을 위해 촛불을 들었...\n",
              "548       기타  ...  '안녕하세요. 시청 뒷쪽에서 소바가게 하고 있습니다.'\\n\\n 우려 했던 것보다 첫...\n",
              "549      일자리  ...  30일 이낙연 민주당 대표는 지방할당을 50%까지 늘리는 방안을 검토중이라고 발표하...\n",
              "550    안전/환경  ...  서울 동대문구 배봉초등학교 후문쪽에 있는 배봉산 올라가는 길은  매우 가파른 200...\n",
              "551   인권/성평등  ...  저는 **타워 관리단의 대표위원중 1명입니다.\\n대표위원은 **산업진흥원 3명 + ...\n",
              "\n",
              "[552 rows x 3 columns]"
            ]
          },
          "metadata": {
            "tags": []
          },
          "execution_count": 10
        }
      ]
    },
    {
      "cell_type": "markdown",
      "metadata": {
        "id": "LErLmPtD205O"
      },
      "source": [
        "# **3. 데이터 전처리 과정**"
      ]
    },
    {
      "cell_type": "markdown",
      "metadata": {
        "id": "MRNQTgYV3C-t"
      },
      "source": [
        "(1) 불용화 제거, 기타 카테고리 제거"
      ]
    },
    {
      "cell_type": "code",
      "metadata": {
        "id": "o368HmWbr6eg"
      },
      "source": [
        "test = test.dropna(axis=0)\n",
        "\n",
        "#카테고리가 기타인 값 제거\n",
        "#index_num = test[test['category']=='기타'].index\n",
        "#test = test.drop(index_num)\n",
        "#print(test)\n",
        "test\n",
        "train = train.dropna(axis=0)\n",
        "\n",
        "#카테고리가 기타인 값 제거\n",
        "#index_num = train[train['category']=='기타'].index\n",
        "#train = train.drop(index_num)\n",
        "\n",
        "#print(train)"
      ],
      "execution_count": null,
      "outputs": []
    },
    {
      "cell_type": "markdown",
      "metadata": {
        "id": "sUoMq18y3NSR"
      },
      "source": [
        "(2) 카테고리 인덱싱"
      ]
    },
    {
      "cell_type": "code",
      "metadata": {
        "id": "Zckmr42-s8Pz"
      },
      "source": [
        "train.loc[train[\"category\"] == \"정치개혁\",\"category\"] = 0\n",
        "train.loc[train[\"category\"] == \"외교/통일/국방\",\"category\"] = 1\n",
        "train.loc[train[\"category\"] == \"일자리\",\"category\"] = 2\n",
        "train.loc[train[\"category\"] == \"미래\",\"category\"] = 3\n",
        "train.loc[train[\"category\"] == \"성장동력\",\"category\"] = 4\n",
        "train.loc[train[\"category\"] == \"농산어촌\",\"category\"] = 5\n",
        "train.loc[train[\"category\"] == \"보건복지\",\"category\"] = 6\n",
        "train.loc[train[\"category\"] == \"육아/교육\",\"category\"] = 7\n",
        "train.loc[train[\"category\"] == \"안전/환경\",\"category\"] = 8\n",
        "train.loc[train[\"category\"] == \"저출산/고령화대책\",\"category\"] = 9\n",
        "train.loc[train[\"category\"] == \"행정\",\"category\"] = 10\n",
        "train.loc[train[\"category\"] == \"반려동물\",\"category\"] = 11\n",
        "train.loc[train[\"category\"] == \"교통/건축/국토\",\"category\"] = 12\n",
        "train.loc[train[\"category\"] == \"경제민주화\",\"category\"] = 13\n",
        "train.loc[train[\"category\"] == \"인권/성평등\",\"category\"] = 14\n",
        "train.loc[train[\"category\"] == \"문화/예술/체육/언론\",\"category\"] = 15\n",
        "train.loc[train[\"category\"] == \"기타\",\"category\"] = 16\n",
        "\n",
        "test.loc[test[\"category\"] == \"정치개혁\",\"category\"] = 0\n",
        "test.loc[test[\"category\"] == \"외교/통일/국방\",\"category\"] = 1\n",
        "test.loc[test[\"category\"] == \"일자리\",\"category\"] = 2\n",
        "test.loc[test[\"category\"] == \"미래\",\"category\"] = 3\n",
        "test.loc[test[\"category\"] == \"성장동력\",\"category\"] = 4\n",
        "test.loc[test[\"category\"] == \"농산어촌\",\"category\"] = 5\n",
        "test.loc[test[\"category\"] == \"보건복지\",\"category\"] = 6\n",
        "test.loc[test[\"category\"] == \"육아/교육\",\"category\"] = 7\n",
        "test.loc[test[\"category\"] == \"안전/환경\",\"category\"] = 8\n",
        "test.loc[test[\"category\"] == \"저출산/고령화대책\",\"category\"] = 9\n",
        "test.loc[test[\"category\"] == \"행정\",\"category\"] = 10\n",
        "test.loc[test[\"category\"] == \"반려동물\",\"category\"] = 11\n",
        "test.loc[test[\"category\"] == \"교통/건축/국토\",\"category\"] = 12\n",
        "test.loc[test[\"category\"] == \"경제민주화\",\"category\"] = 13\n",
        "test.loc[test[\"category\"] == \"인권/성평등\",\"category\"] = 14\n",
        "test.loc[test[\"category\"] == \"문화/예술/체육/언론\",\"category\"] = 15\n",
        "train.loc[train[\"category\"] == \"기타\",\"category\"] = 16"
      ],
      "execution_count": null,
      "outputs": []
    },
    {
      "cell_type": "code",
      "metadata": {
        "colab": {
          "base_uri": "https://localhost:8080/",
          "height": 402
        },
        "id": "Py_PbzDgyXpE",
        "outputId": "3ae7a631-ee48-4c8b-a21c-1b8046e7b4a7"
      },
      "source": [
        "train"
      ],
      "execution_count": null,
      "outputs": [
        {
          "output_type": "execute_result",
          "data": {
            "text/html": [
              "<div>\n",
              "<style scoped>\n",
              "    .dataframe tbody tr th:only-of-type {\n",
              "        vertical-align: middle;\n",
              "    }\n",
              "\n",
              "    .dataframe tbody tr th {\n",
              "        vertical-align: top;\n",
              "    }\n",
              "\n",
              "    .dataframe thead th {\n",
              "        text-align: right;\n",
              "    }\n",
              "</style>\n",
              "<table border=\"1\" class=\"dataframe\">\n",
              "  <thead>\n",
              "    <tr style=\"text-align: right;\">\n",
              "      <th></th>\n",
              "      <th>category</th>\n",
              "      <th>content</th>\n",
              "    </tr>\n",
              "  </thead>\n",
              "  <tbody>\n",
              "    <tr>\n",
              "      <th>0</th>\n",
              "      <td>7</td>\n",
              "      <td>안녕하세요. 현재 사대, 교대 등 교원양성학교들의 예비교사들이 임용절벽에 매우 힘들...</td>\n",
              "    </tr>\n",
              "    <tr>\n",
              "      <th>1</th>\n",
              "      <td>7</td>\n",
              "      <td>대통령님^^ 민주주의 사회에서는 국공립과 사립은 공존하여 서로 경쟁 발전해야하며 시...</td>\n",
              "    </tr>\n",
              "    <tr>\n",
              "      <th>2</th>\n",
              "      <td>14</td>\n",
              "      <td>기간제 교사 쪼개기 계약 시정 부탁드립니다. 현재 많은 기간제 선생님들이 1년 계약...</td>\n",
              "    </tr>\n",
              "    <tr>\n",
              "      <th>3</th>\n",
              "      <td>8</td>\n",
              "      <td>안녕하세요. 초등학교 아이를 둔 주부입니다. GMO에 대해서 저도 알게 된건 1년정...</td>\n",
              "    </tr>\n",
              "    <tr>\n",
              "      <th>4</th>\n",
              "      <td>7</td>\n",
              "      <td>★★★ 민간,가정 모든 사립영유아교육기관의 나아갈길!!!★★★ 국민은 법 앞에 평등...</td>\n",
              "    </tr>\n",
              "    <tr>\n",
              "      <th>...</th>\n",
              "      <td>...</td>\n",
              "      <td>...</td>\n",
              "    </tr>\n",
              "    <tr>\n",
              "      <th>146715</th>\n",
              "      <td>16</td>\n",
              "      <td>범죄자와 주인의 주종관계(고용주와 고용인)를 뒤집어 판결을 선고한 재판에 관여한 대...</td>\n",
              "    </tr>\n",
              "    <tr>\n",
              "      <th>146716</th>\n",
              "      <td>0</td>\n",
              "      <td>국회의원님들 \"인사청문회\"를 거쳐서 총선출마 하도록 국민청원법을 제정하면 좋을듯 합...</td>\n",
              "    </tr>\n",
              "    <tr>\n",
              "      <th>146717</th>\n",
              "      <td>16</td>\n",
              "      <td>문재인 대통령님께 청원합니다. 저는 딸 아이를 둔 사십대 가장입니다. 촛불시민의 일...</td>\n",
              "    </tr>\n",
              "    <tr>\n",
              "      <th>146718</th>\n",
              "      <td>1</td>\n",
              "      <td>백의민족 한겨레의 국민염원 남북통일 두려움에 벌벌떠는 쪽섬왜구 검은속내 우리들의 참...</td>\n",
              "    </tr>\n",
              "    <tr>\n",
              "      <th>146719</th>\n",
              "      <td>10</td>\n",
              "      <td>7월2일 아들이 친구집에 놀러갔다가 그곳에온 친구아는형에게 감금,협박, 폭행을 당했...</td>\n",
              "    </tr>\n",
              "  </tbody>\n",
              "</table>\n",
              "<p>146610 rows × 2 columns</p>\n",
              "</div>"
            ],
            "text/plain": [
              "       category                                            content\n",
              "0             7  안녕하세요. 현재 사대, 교대 등 교원양성학교들의 예비교사들이 임용절벽에 매우 힘들...\n",
              "1             7  대통령님^^ 민주주의 사회에서는 국공립과 사립은 공존하여 서로 경쟁 발전해야하며 시...\n",
              "2            14  기간제 교사 쪼개기 계약 시정 부탁드립니다. 현재 많은 기간제 선생님들이 1년 계약...\n",
              "3             8  안녕하세요. 초등학교 아이를 둔 주부입니다. GMO에 대해서 저도 알게 된건 1년정...\n",
              "4             7  ★★★ 민간,가정 모든 사립영유아교육기관의 나아갈길!!!★★★ 국민은 법 앞에 평등...\n",
              "...         ...                                                ...\n",
              "146715       16  범죄자와 주인의 주종관계(고용주와 고용인)를 뒤집어 판결을 선고한 재판에 관여한 대...\n",
              "146716        0  국회의원님들 \"인사청문회\"를 거쳐서 총선출마 하도록 국민청원법을 제정하면 좋을듯 합...\n",
              "146717       16  문재인 대통령님께 청원합니다. 저는 딸 아이를 둔 사십대 가장입니다. 촛불시민의 일...\n",
              "146718        1  백의민족 한겨레의 국민염원 남북통일 두려움에 벌벌떠는 쪽섬왜구 검은속내 우리들의 참...\n",
              "146719       10  7월2일 아들이 친구집에 놀러갔다가 그곳에온 친구아는형에게 감금,협박, 폭행을 당했...\n",
              "\n",
              "[146610 rows x 2 columns]"
            ]
          },
          "metadata": {
            "tags": []
          },
          "execution_count": 10
        }
      ]
    },
    {
      "cell_type": "code",
      "metadata": {
        "colab": {
          "base_uri": "https://localhost:8080/",
          "height": 402
        },
        "id": "Rdtzf9oEtPmX",
        "outputId": "c31bc6e4-e9ef-49a8-a0d0-05fee0696bfc"
      },
      "source": [
        "\n",
        "test\n"
      ],
      "execution_count": null,
      "outputs": [
        {
          "output_type": "execute_result",
          "data": {
            "text/html": [
              "<div>\n",
              "<style scoped>\n",
              "    .dataframe tbody tr th:only-of-type {\n",
              "        vertical-align: middle;\n",
              "    }\n",
              "\n",
              "    .dataframe tbody tr th {\n",
              "        vertical-align: top;\n",
              "    }\n",
              "\n",
              "    .dataframe thead th {\n",
              "        text-align: right;\n",
              "    }\n",
              "</style>\n",
              "<table border=\"1\" class=\"dataframe\">\n",
              "  <thead>\n",
              "    <tr style=\"text-align: right;\">\n",
              "      <th></th>\n",
              "      <th>category</th>\n",
              "      <th>title</th>\n",
              "      <th>contents</th>\n",
              "    </tr>\n",
              "  </thead>\n",
              "  <tbody>\n",
              "    <tr>\n",
              "      <th>0</th>\n",
              "      <td>0</td>\n",
              "      <td>커밍아웃검사 사표 받으십시오!</td>\n",
              "      <td>커밍아웃검사 사표 받으십시오!!!!\\n\\n정치인 총장이 검찰을 정치로 덮어 망치고 ...</td>\n",
              "    </tr>\n",
              "    <tr>\n",
              "      <th>1</th>\n",
              "      <td>7</td>\n",
              "      <td>울산 동구에서 발생한 끔찍한 어린이집 학대 사건, 가해교사는 원장의 딸</td>\n",
              "      <td>저희는 울산 동구에 살고 있는 6세 남자아이의 부모입니다.\\n저희 아이는 작년 5세...</td>\n",
              "    </tr>\n",
              "    <tr>\n",
              "      <th>2</th>\n",
              "      <td>기타</td>\n",
              "      <td>2019.06.30. 발생된 가평 익사사건의 진실을 밝혀주세요</td>\n",
              "      <td>[ 2019.06.30. 발생된 가평 익사사건의 진실을 밝혀주세요 ]\\n\\n안녕하세...</td>\n",
              "    </tr>\n",
              "    <tr>\n",
              "      <th>3</th>\n",
              "      <td>0</td>\n",
              "      <td>정경심 교수님은 무죄입니다.</td>\n",
              "      <td>오늘 서울중앙지법 형사합의 25-2부\\n(부장판사 임정엽.권성수. 김선희)심리로 열...</td>\n",
              "    </tr>\n",
              "    <tr>\n",
              "      <th>4</th>\n",
              "      <td>0</td>\n",
              "      <td>라임, 옵티머스 사태 특별검사 도입하라!!</td>\n",
              "      <td>라임사태, 옵티머스 사태는\\n전국민을 대상으로 수조원의 사기를 벌인\\n초대형 사기극...</td>\n",
              "    </tr>\n",
              "    <tr>\n",
              "      <th>...</th>\n",
              "      <td>...</td>\n",
              "      <td>...</td>\n",
              "      <td>...</td>\n",
              "    </tr>\n",
              "    <tr>\n",
              "      <th>547</th>\n",
              "      <td>10</td>\n",
              "      <td>국정철학에 맞게 공정한 체육관 운영대책을 세워주세요.</td>\n",
              "      <td>20-10-30 ~ 20-11-29\\n\\n\\n\\n\\n\\n촛불혁명을 위해 촛불을 들었...</td>\n",
              "    </tr>\n",
              "    <tr>\n",
              "      <th>548</th>\n",
              "      <td>기타</td>\n",
              "      <td>제주도 미등기 농가주택 임차인 미보호에 관한 보고</td>\n",
              "      <td>'안녕하세요. 시청 뒷쪽에서 소바가게 하고 있습니다.'\\n\\n 우려 했던 것보다 첫...</td>\n",
              "    </tr>\n",
              "    <tr>\n",
              "      <th>549</th>\n",
              "      <td>2</td>\n",
              "      <td>지방할달, 지역인재 50%까지 확대, 다시한번 생각해 주십시오.</td>\n",
              "      <td>30일 이낙연 민주당 대표는 지방할당을 50%까지 늘리는 방안을 검토중이라고 발표하...</td>\n",
              "    </tr>\n",
              "    <tr>\n",
              "      <th>550</th>\n",
              "      <td>8</td>\n",
              "      <td>동대문구 전농동 배봉산둘레길 계단불편문의 (배봉초등학교 후문쪽)와 공원시설마련 건의내</td>\n",
              "      <td>서울 동대문구 배봉초등학교 후문쪽에 있는 배봉산 올라가는 길은  매우 가파른 200...</td>\n",
              "    </tr>\n",
              "    <tr>\n",
              "      <th>551</th>\n",
              "      <td>14</td>\n",
              "      <td>**산업진흥원의 갑질을 고발합니다.</td>\n",
              "      <td>저는 **타워 관리단의 대표위원중 1명입니다.\\n대표위원은 **산업진흥원 3명 + ...</td>\n",
              "    </tr>\n",
              "  </tbody>\n",
              "</table>\n",
              "<p>552 rows × 3 columns</p>\n",
              "</div>"
            ],
            "text/plain": [
              "    category  ...                                           contents\n",
              "0          0  ...  커밍아웃검사 사표 받으십시오!!!!\\n\\n정치인 총장이 검찰을 정치로 덮어 망치고 ...\n",
              "1          7  ...  저희는 울산 동구에 살고 있는 6세 남자아이의 부모입니다.\\n저희 아이는 작년 5세...\n",
              "2         기타  ...  [ 2019.06.30. 발생된 가평 익사사건의 진실을 밝혀주세요 ]\\n\\n안녕하세...\n",
              "3          0  ...  오늘 서울중앙지법 형사합의 25-2부\\n(부장판사 임정엽.권성수. 김선희)심리로 열...\n",
              "4          0  ...  라임사태, 옵티머스 사태는\\n전국민을 대상으로 수조원의 사기를 벌인\\n초대형 사기극...\n",
              "..       ...  ...                                                ...\n",
              "547       10  ...  20-10-30 ~ 20-11-29\\n\\n\\n\\n\\n\\n촛불혁명을 위해 촛불을 들었...\n",
              "548       기타  ...  '안녕하세요. 시청 뒷쪽에서 소바가게 하고 있습니다.'\\n\\n 우려 했던 것보다 첫...\n",
              "549        2  ...  30일 이낙연 민주당 대표는 지방할당을 50%까지 늘리는 방안을 검토중이라고 발표하...\n",
              "550        8  ...  서울 동대문구 배봉초등학교 후문쪽에 있는 배봉산 올라가는 길은  매우 가파른 200...\n",
              "551       14  ...  저는 **타워 관리단의 대표위원중 1명입니다.\\n대표위원은 **산업진흥원 3명 + ...\n",
              "\n",
              "[552 rows x 3 columns]"
            ]
          },
          "metadata": {
            "tags": []
          },
          "execution_count": 11
        }
      ]
    },
    {
      "cell_type": "markdown",
      "metadata": {
        "id": "NjASKy-V3Zdw"
      },
      "source": [
        "(3)"
      ]
    },
    {
      "cell_type": "code",
      "metadata": {
        "id": "M7sX-cJRtRyU"
      },
      "source": [
        "train_content = train['content'].str.replace(\"[^ㄱ-ㅎㅏ-ㅣ가-힣 ]\",\"\")"
      ],
      "execution_count": null,
      "outputs": []
    },
    {
      "cell_type": "code",
      "metadata": {
        "id": "2JxyKolgtbLC"
      },
      "source": [
        "okt = Okt()\n",
        "\n",
        "stopwords = ['있다','하다','을','를','이','가','의','은','들','좀','는','과','와','한','에','으로']"
      ],
      "execution_count": null,
      "outputs": []
    },
    {
      "cell_type": "code",
      "metadata": {
        "colab": {
          "background_save": true,
          "base_uri": "https://localhost:8080/"
        },
        "id": "1yhtcRXvtdhv",
        "outputId": "99961f5a-1134-451d-f845-af0c0d5a4b18"
      },
      "source": [
        "#데이터 토큰화 (시간 좀 걸러요)\n",
        "X_train=[]\n",
        "for sentence in tqdm(train_content) : \n",
        "    temp_X = []\n",
        "    temp_X = okt.morphs(sentence, stem = True)\n",
        "    temp_X = [word for word in temp_X if not word in stopwords] #불용어제거\n",
        "    temp_X = [word for word in temp_X if len(word) > 1 ] #토큰화하여 길이가 2 이상인 단어만 남기기\n",
        "    X_train.append(temp_X)"
      ],
      "execution_count": null,
      "outputs": [
        {
          "output_type": "stream",
          "text": [
            "100%|██████████| 146610/146610 [2:16:32<00:00, 17.89it/s]\n"
          ],
          "name": "stderr"
        }
      ]
    },
    {
      "cell_type": "code",
      "metadata": {
        "colab": {
          "base_uri": "https://localhost:8080/"
        },
        "id": "t0-qUI3dOi2o",
        "outputId": "dfaaa275-e351-4677-b9d6-961314984398"
      },
      "source": [
        "X_train[:1]"
      ],
      "execution_count": null,
      "outputs": [
        {
          "output_type": "execute_result",
          "data": {
            "text/plain": [
              "[['안녕하다',\n",
              "  '현재',\n",
              "  '사대',\n",
              "  '교대',\n",
              "  '교원양성',\n",
              "  '학교',\n",
              "  '예비교',\n",
              "  '사들이다',\n",
              "  '임용',\n",
              "  '절벽',\n",
              "  '매우',\n",
              "  '힘들다',\n",
              "  '압니',\n",
              "  '정부',\n",
              "  '부처',\n",
              "  '에서는',\n",
              "  '영양사',\n",
              "  '교사',\n",
              "  '폭발',\n",
              "  '영양',\n",
              "  '교사',\n",
              "  '채용',\n",
              "  '기간',\n",
              "  '교사',\n",
              "  '전강',\n",
              "  '스강',\n",
              "  '무기계약직',\n",
              "  '화가',\n",
              "  '임용',\n",
              "  '절벽',\n",
              "  '과는',\n",
              "  '전혀',\n",
              "  '무관',\n",
              "  '일이',\n",
              "  '라고',\n",
              "  '주장',\n",
              "  '하고',\n",
              "  '조금',\n",
              "  '생각',\n",
              "  '해보다',\n",
              "  '전혀',\n",
              "  '설득',\n",
              "  '없다',\n",
              "  '이라고',\n",
              "  '생각',\n",
              "  '학교',\n",
              "  '수가',\n",
              "  '같다',\n",
              "  '학생',\n",
              "  '수가',\n",
              "  '동일하다',\n",
              "  '교사',\n",
              "  '기간',\n",
              "  '교사',\n",
              "  '전강',\n",
              "  '스강',\n",
              "  '학교',\n",
              "  '늘어나다',\n",
              "  '되다',\n",
              "  '당연하다',\n",
              "  '정규',\n",
              "  '교원',\n",
              "  '줄어들다',\n",
              "  '되다',\n",
              "  '않다',\n",
              "  '기간',\n",
              "  '교사',\n",
              "  '전강',\n",
              "  '스강',\n",
              "  '무기계약직',\n",
              "  '정규직',\n",
              "  '전면',\n",
              "  '백지',\n",
              "  '해주다',\n",
              "  '년대',\n",
              "  '국가',\n",
              "  '교육',\n",
              "  '달리다',\n",
              "  '문제',\n",
              "  '이다',\n",
              "  '단순하다',\n",
              "  '대통령',\n",
              "  '일자리',\n",
              "  '공약',\n",
              "  '일자리',\n",
              "  '추다',\n",
              "  '공약',\n",
              "  '지키다',\n",
              "  '돌이키다',\n",
              "  '없다',\n",
              "  '실수',\n",
              "  '않다',\n",
              "  '바라다',\n",
              "  '세계',\n",
              "  '어느',\n",
              "  '나라',\n",
              "  '비교',\n",
              "  '한국',\n",
              "  '교원',\n",
              "  '수준',\n",
              "  '최고',\n",
              "  '수준',\n",
              "  '이다',\n",
              "  '고등교육',\n",
              "  '받다',\n",
              "  '어렵다',\n",
              "  '국가',\n",
              "  '고시',\n",
              "  '통과',\n",
              "  '대한민국',\n",
              "  '공립',\n",
              "  '학교',\n",
              "  '교단',\n",
              "  '이러하다',\n",
              "  '과정',\n",
              "  '힘들다',\n",
              "  '기다',\n",
              "  '하지만',\n",
              "  '교원',\n",
              "  '교육자',\n",
              "  '로서',\n",
              "  '명감',\n",
              "  '자부심',\n",
              "  '갖다',\n",
              "  '교육',\n",
              "  '되다',\n",
              "  '원동력',\n",
              "  '이기도',\n",
              "  '자격',\n",
              "  '없다',\n",
              "  '정규',\n",
              "  '인력',\n",
              "  '일자리',\n",
              "  '늘리다',\n",
              "  '명목',\n",
              "  '학교',\n",
              "  '들이다',\n",
              "  '되다',\n",
              "  '무슨',\n",
              "  '대한민국',\n",
              "  '공정하다',\n",
              "  '사회',\n",
              "  '라고',\n",
              "  '아이',\n",
              "  '에게',\n",
              "  '가르치다',\n",
              "  '가르치다',\n",
              "  '학부모',\n",
              "  '학생',\n",
              "  '납득',\n",
              "  '학생',\n",
              "  '공부',\n",
              "  '열심히',\n",
              "  '이유',\n",
              "  '찾다',\n",
              "  '수나',\n",
              "  '열심히',\n",
              "  '해도',\n",
              "  '쓰다',\n",
              "  '되다',\n",
              "  '세상',\n",
              "  '이라고',\n",
              "  '생각',\n",
              "  '않다',\n",
              "  '영양사',\n",
              "  '교사',\n",
              "  '재고',\n",
              "  '해주다',\n",
              "  '영양사',\n",
              "  '분들',\n",
              "  '정말',\n",
              "  '너무나',\n",
              "  '고맙다',\n",
              "  '들이다',\n",
              "  '학생',\n",
              "  '건강',\n",
              "  '영양',\n",
              "  '당연하다',\n",
              "  '성장기',\n",
              "  '아이',\n",
              "  '에게',\n",
              "  '필수',\n",
              "  '이고',\n",
              "  '중요하다',\n",
              "  '문제',\n",
              "  '이다',\n",
              "  '하지만',\n",
              "  '교사',\n",
              "  '니까',\n",
              "  '유래',\n",
              "  '찾다',\n",
              "  '없다',\n",
              "  '영양사',\n",
              "  '교사',\n",
              "  '정말',\n",
              "  '대통령',\n",
              "  '생각',\n",
              "  '아이디어',\n",
              "  '라고',\n",
              "  '믿다',\n",
              "  '싫다',\n",
              "  '정도',\n",
              "  '납득',\n",
              "  '어렵다',\n",
              "  '중등',\n",
              "  '실과',\n",
              "  '교과',\n",
              "  '교사',\n",
              "  '존재',\n",
              "  '초등',\n",
              "  '역시',\n",
              "  '임용',\n",
              "  '시험',\n",
              "  '실과',\n",
              "  '포함',\n",
              "  '돼다',\n",
              "  '학교',\n",
              "  '현장',\n",
              "  '에서도',\n",
              "  '정규',\n",
              "  '교원',\n",
              "  '직접',\n",
              "  '실과',\n",
              "  '과목',\n",
              "  '학생',\n",
              "  '에게',\n",
              "  '가르치다',\n",
              "  '영양',\n",
              "  '교사',\n",
              "  '아니다',\n",
              "  '영양사',\n",
              "  '학생',\n",
              "  '에게',\n",
              "  '실과',\n",
              "  '가르치다',\n",
              "  '않다',\n",
              "  '아니다',\n",
              "  '어떻다',\n",
              "  '가르치다',\n",
              "  '않다',\n",
              "  '올해',\n",
              "  '대통령',\n",
              "  '취임',\n",
              "  '초등',\n",
              "  '중등',\n",
              "  '임용',\n",
              "  '오가다',\n",
              "  '박살',\n",
              "  '동안',\n",
              "  '영양',\n",
              "  '교사',\n",
              "  '오다',\n",
              "  '폭발',\n",
              "  '확대',\n",
              "  '되다',\n",
              "  '압니',\n",
              "  '학생',\n",
              "  '교육',\n",
              "  '위해',\n",
              "  '정말',\n",
              "  '교원',\n",
              "  '이고',\n",
              "  '영양',\n",
              "  '교사',\n",
              "  '늘리다',\n",
              "  '올바르다',\n",
              "  '해답',\n",
              "  '인지',\n",
              "  '묻다',\n",
              "  '싶다',\n",
              "  '마지막',\n",
              "  '교원',\n",
              "  '학생',\n",
              "  '통계',\n",
              "  '제대로',\n",
              "  '내주다',\n",
              "  '바라다',\n",
              "  '다른',\n",
              "  '나라',\n",
              "  '정규',\n",
              "  '교원',\n",
              "  '담임',\n",
              "  '이나',\n",
              "  '교과',\n",
              "  '교사',\n",
              "  '로만',\n",
              "  '통계',\n",
              "  '내다',\n",
              "  '너무나',\n",
              "  '당연하다',\n",
              "  '이지',\n",
              "  '한국',\n",
              "  '보건',\n",
              "  '영양',\n",
              "  '기간',\n",
              "  '전강',\n",
              "  '스강',\n",
              "  '까지',\n",
              "  '포함',\n",
              "  '교원',\n",
              "  '통계',\n",
              "  '내다',\n",
              "  '가요',\n",
              "  '이렇다',\n",
              "  '통계',\n",
              "  '장난',\n",
              "  '통해',\n",
              "  '평균',\n",
              "  '교원',\n",
              "  '학생',\n",
              "  '거의',\n",
              "  '비슷하다',\n",
              "  '수준',\n",
              "  '이르렀다',\n",
              "  '주장',\n",
              "  '가요',\n",
              "  '학교',\n",
              "  '교육',\n",
              "  '이고',\n",
              "  '학생',\n",
              "  '공간',\n",
              "  '이지',\n",
              "  '인력',\n",
              "  '센터',\n",
              "  '아니다',\n",
              "  '부탁드리다',\n",
              "  '부디',\n",
              "  '넓다',\n",
              "  '안목',\n",
              "  '멀리',\n",
              "  '내다보다',\n",
              "  '간곡히',\n",
              "  '부탁드리다']]"
            ]
          },
          "metadata": {
            "tags": []
          },
          "execution_count": 69
        }
      ]
    },
    {
      "cell_type": "code",
      "metadata": {
        "id": "qHS-1c6Pule_"
      },
      "source": [
        "import numpy as np\n",
        "\n",
        "np.save('X_train_data1',X_train)"
      ],
      "execution_count": null,
      "outputs": []
    },
    {
      "cell_type": "code",
      "metadata": {
        "colab": {
          "base_uri": "https://localhost:8080/"
        },
        "id": "PieiKQHLvvqN",
        "outputId": "4c94b235-c0d7-463b-9397-c24e2bcf6955"
      },
      "source": [
        "ls"
      ],
      "execution_count": null,
      "outputs": [
        {
          "output_type": "stream",
          "text": [
            "'모델링1112의 사본'   model128_ep15.h5   model32_ep100.h5   X_train_data1.npy\n",
            "'모델링1116의 사본'   model128_ep20.h5   model32_ep15.h5    X_train_data.npy\n",
            "\u001b[0m\u001b[01;34m'Colab Notebooks'\u001b[0m/    model16_ep15.h5    modeltest.h5\n",
            " \u001b[01;34mIncheonSmartcity\u001b[0m/    model1_ep15.h5     \u001b[01;36mTLO\u001b[0m@\n"
          ],
          "name": "stdout"
        }
      ]
    },
    {
      "cell_type": "code",
      "metadata": {
        "id": "v5jq6d5EvyDl"
      },
      "source": [
        "X_train = np.load('/content/gdrive/MyDrive/X_train_data1.npy', allow_pickle=True)"
      ],
      "execution_count": null,
      "outputs": []
    },
    {
      "cell_type": "code",
      "metadata": {
        "colab": {
          "base_uri": "https://localhost:8080/"
        },
        "id": "AyKPB9efv4Zj",
        "outputId": "c2413e61-c504-4540-a26f-bec3a6eb7051"
      },
      "source": [
        "X_train[:1]"
      ],
      "execution_count": null,
      "outputs": [
        {
          "output_type": "execute_result",
          "data": {
            "text/plain": [
              "array([list(['안녕하다', '현재', '사대', '교대', '교원양성', '학교', '예비교', '사들이다', '임용', '절벽', '매우', '힘들다', '압니', '정부', '부처', '에서는', '영양사', '교사', '폭발', '영양', '교사', '채용', '기간', '교사', '전강', '스강', '무기계약직', '화가', '임용', '절벽', '과는', '전혀', '무관', '일이', '라고', '주장', '하고', '조금', '생각', '해보다', '전혀', '설득', '없다', '이라고', '생각', '학교', '수가', '같다', '학생', '수가', '동일하다', '교사', '기간', '교사', '전강', '스강', '학교', '늘어나다', '되다', '당연하다', '정규', '교원', '줄어들다', '되다', '않다', '기간', '교사', '전강', '스강', '무기계약직', '정규직', '전면', '백지', '해주다', '년대', '국가', '교육', '달리다', '문제', '이다', '단순하다', '대통령', '일자리', '공약', '일자리', '추다', '공약', '지키다', '돌이키다', '없다', '실수', '않다', '바라다', '세계', '어느', '나라', '비교', '한국', '교원', '수준', '최고', '수준', '이다', '고등교육', '받다', '어렵다', '국가', '고시', '통과', '대한민국', '공립', '학교', '교단', '이러하다', '과정', '힘들다', '기다', '하지만', '교원', '교육자', '로서', '명감', '자부심', '갖다', '교육', '되다', '원동력', '이기도', '자격', '없다', '정규', '인력', '일자리', '늘리다', '명목', '학교', '들이다', '되다', '무슨', '대한민국', '공정하다', '사회', '라고', '아이', '에게', '가르치다', '가르치다', '학부모', '학생', '납득', '학생', '공부', '열심히', '이유', '찾다', '수나', '열심히', '해도', '쓰다', '되다', '세상', '이라고', '생각', '않다', '영양사', '교사', '재고', '해주다', '영양사', '분들', '정말', '너무나', '고맙다', '들이다', '학생', '건강', '영양', '당연하다', '성장기', '아이', '에게', '필수', '이고', '중요하다', '문제', '이다', '하지만', '교사', '니까', '유래', '찾다', '없다', '영양사', '교사', '정말', '대통령', '생각', '아이디어', '라고', '믿다', '싫다', '정도', '납득', '어렵다', '중등', '실과', '교과', '교사', '존재', '초등', '역시', '임용', '시험', '실과', '포함', '돼다', '학교', '현장', '에서도', '정규', '교원', '직접', '실과', '과목', '학생', '에게', '가르치다', '영양', '교사', '아니다', '영양사', '학생', '에게', '실과', '가르치다', '않다', '아니다', '어떻다', '가르치다', '않다', '올해', '대통령', '취임', '초등', '중등', '임용', '오가다', '박살', '동안', '영양', '교사', '오다', '폭발', '확대', '되다', '압니', '학생', '교육', '위해', '정말', '교원', '이고', '영양', '교사', '늘리다', '올바르다', '해답', '인지', '묻다', '싶다', '마지막', '교원', '학생', '통계', '제대로', '내주다', '바라다', '다른', '나라', '정규', '교원', '담임', '이나', '교과', '교사', '로만', '통계', '내다', '너무나', '당연하다', '이지', '한국', '보건', '영양', '기간', '전강', '스강', '까지', '포함', '교원', '통계', '내다', '가요', '이렇다', '통계', '장난', '통해', '평균', '교원', '학생', '거의', '비슷하다', '수준', '이르렀다', '주장', '가요', '학교', '교육', '이고', '학생', '공간', '이지', '인력', '센터', '아니다', '부탁드리다', '부디', '넓다', '안목', '멀리', '내다보다', '간곡히', '부탁드리다'])],\n",
              "      dtype=object)"
            ]
          },
          "metadata": {
            "tags": []
          },
          "execution_count": 20
        }
      ]
    },
    {
      "cell_type": "code",
      "metadata": {
        "colab": {
          "base_uri": "https://localhost:8080/"
        },
        "id": "6Iqn-vfPuxBw",
        "outputId": "9c3ec1e5-c799-433b-c22d-3d1e8c1b466d"
      },
      "source": [
        "testdata = []\n",
        "test_content = test['contents'].str.replace(\"[^ㄱ-ㅎㅏ-ㅣ가-힣 ]\",\"\")\n",
        "for sentence in tqdm(test_content):\n",
        "    temp_X = []\n",
        "    temp_X = okt.morphs(sentence, stem=True)\n",
        "    temp_X = [word for word in temp_X if not word in stopwords] #불용어제거\n",
        "    temp_X = [word for word in temp_X if len(word) > 1 ] #토큰화하여 길이가 2 이상인 단어만 남기기\n",
        "    testdata.append(temp_X)"
      ],
      "execution_count": null,
      "outputs": [
        {
          "output_type": "stream",
          "text": [
            "100%|██████████| 490/490 [01:00<00:00,  8.05it/s]\n"
          ],
          "name": "stderr"
        }
      ]
    },
    {
      "cell_type": "code",
      "metadata": {
        "colab": {
          "base_uri": "https://localhost:8080/"
        },
        "id": "FTIhccngu391",
        "outputId": "f16ceb5c-b919-4fd5-d09a-a148563af64b"
      },
      "source": [
        "testdata[:1]"
      ],
      "execution_count": null,
      "outputs": [
        {
          "output_type": "execute_result",
          "data": {
            "text/plain": [
              "[['커밍아웃',\n",
              "  '검사',\n",
              "  '사표',\n",
              "  '받다',\n",
              "  '정치인',\n",
              "  '총장',\n",
              "  '검찰',\n",
              "  '정치',\n",
              "  '덮다',\n",
              "  '망치',\n",
              "  '반성',\n",
              "  '하고',\n",
              "  '자숙해',\n",
              "  '모자라다',\n",
              "  '정치검찰',\n",
              "  '이제',\n",
              "  '대놓고',\n",
              "  '정치',\n",
              "  '시작',\n",
              "  '감찰',\n",
              "  '전방',\n",
              "  '문해',\n",
              "  '정치',\n",
              "  '하고',\n",
              "  '추종',\n",
              "  '정치검찰',\n",
              "  '언론',\n",
              "  '이용',\n",
              "  '오히려',\n",
              "  '검찰',\n",
              "  '개혁',\n",
              "  '방해',\n",
              "  '하고',\n",
              "  '자성',\n",
              "  '목소리',\n",
              "  '없이',\n",
              "  '오히려',\n",
              "  '정치인',\n",
              "  '총장',\n",
              "  '위해',\n",
              "  '커밍아웃',\n",
              "  '검사',\n",
              "  '사표',\n",
              "  '받다',\n",
              "  '검찰',\n",
              "  '개혁',\n",
              "  '시작',\n",
              "  '커밍아웃',\n",
              "  '검사',\n",
              "  '사표',\n",
              "  '받다',\n",
              "  '부터',\n",
              "  '시작',\n",
              "  '이다',\n",
              "  '대한민국',\n",
              "  '적폐',\n",
              "  '청산',\n",
              "  '출발',\n",
              "  '검찰',\n",
              "  '개혁',\n",
              "  '가다']]"
            ]
          },
          "metadata": {
            "tags": []
          },
          "execution_count": 15
        }
      ]
    },
    {
      "cell_type": "code",
      "metadata": {
        "id": "9UIEBc3Pu_lx"
      },
      "source": [
        "vocab_size = 30000\n",
        "tokenizer = Tokenizer(vocab_size) #가장 빈도가 높은 30000개의 단어만 선택하도록 Tokenizer 객체 생성\n",
        "tokenizer.fit_on_texts(X_train) #단어 인덱스 구축\n",
        "\n",
        "X_train = tokenizer.texts_to_sequences(X_train) #문자열을 정수 인덱스의 리스트로 변환\n",
        "testdata = tokenizer.texts_to_sequences(testdata)"
      ],
      "execution_count": null,
      "outputs": []
    },
    {
      "cell_type": "code",
      "metadata": {
        "id": "cTD7yi8jvISB"
      },
      "source": [
        "max_len = 500 #데이터의 길이를 통일\n",
        "X_train = pad_sequences(X_train, maxlen = max_len)\n",
        "testdata = pad_sequences(testdata, maxlen = max_len)"
      ],
      "execution_count": null,
      "outputs": []
    },
    {
      "cell_type": "code",
      "metadata": {
        "id": "za_MaJENvKZN"
      },
      "source": [
        "y_train = to_categorical(train['category'])"
      ],
      "execution_count": null,
      "outputs": []
    },
    {
      "cell_type": "markdown",
      "metadata": {
        "id": "E5ls5WpP3hfw"
      },
      "source": [
        "# **4. 모델링학습**"
      ]
    },
    {
      "cell_type": "code",
      "metadata": {
        "id": "nU33r59Fop3E"
      },
      "source": [
        "from tensorflow.keras.models import Sequential\n",
        "from tensorflow.keras.layers import Dense, LSTM, Embedding, Dropout\n",
        "from tensorflow.keras.models import load_model"
      ],
      "execution_count": null,
      "outputs": []
    },
    {
      "cell_type": "markdown",
      "metadata": {
        "id": "7Vw6kiht3MeA"
      },
      "source": [
        "# 기타포함"
      ]
    },
    {
      "cell_type": "code",
      "metadata": {
        "id": "Yhz5kyz63Qw_"
      },
      "source": [
        "\n",
        "\n",
        "tmodel32 = Sequential()\n",
        "tmodel32.add(Embedding(vocab_size, 32, input_length=max_len)) \n",
        "#Embedding층은 전처리과정을 통해 입력된 값을 받아 다음층이 알아들을 수 있는 형태로 변환\n",
        "#Embedding('불러온 단어의 개수','기사당 단어수')\n",
        "tmodel32.add(LSTM(32))\n",
        "#LSTM은 RNN에서 기억 값에 대한 가중치를 제어\n",
        "#LSTM(기사당 단어수, 기타옵션)\n",
        "tmodel32.add(Dense(16,  activation = 'softmax'))\n",
        "tmodel32.compile(loss = 'categorical_crossentropy', optimizer = 'adam', metrics=['acc'])\n",
        "tmodel32.summary()"
      ],
      "execution_count": null,
      "outputs": []
    },
    {
      "cell_type": "code",
      "metadata": {
        "id": "Ma_G0FrJ3QWO"
      },
      "source": [
        "thistory_32 = tmodel32.fit(X_train, y_train, batch_size=128, epochs=15, validation_split = 0.3)\n",
        "\n",
        "plt.plot(thistory_32.history['acc'])\n",
        "plt.plot(thistory_32.history['val_acc'])\n",
        "plt.title('Model accuracy')\n",
        "plt.xlabel('Epoch')\n",
        "plt.ylabel('Accuracy')\n",
        "plt.legend(['Train', 'Test'], loc='upper left')\n",
        "plt.show()\n",
        "\n",
        "plt.plot(thistory_32.history['loss'])\n",
        "plt.plot(thistory_32.history['val_loss'])\n",
        "plt.title('Model loss')\n",
        "plt.xlabel('epoch')\n",
        "plt.ylabel('loss')\n",
        "plt.legend(['Train', 'Test'], loc='upper left')\n",
        "plt.show()\n"
      ],
      "execution_count": null,
      "outputs": []
    },
    {
      "cell_type": "code",
      "metadata": {
        "id": "BMx3qr8o347j"
      },
      "source": [
        "tmodel32_ddd = Sequential()\n",
        "tmodel32_ddd.add(Embedding(vocab_size, 32, input_length=max_len)) \n",
        "#Embedding층은 전처리과정을 통해 입력된 값을 받아 다음층이 알아들을 수 있는 형태로 변환\n",
        "#Embedding('불러온 단어의 개수','기사당 단어수')\n",
        "tmodel32_ddd.add(Dropout(0.2))\n",
        "tmodel32_ddd.add(LSTM(32))\n",
        "tmodel32_ddd.add(Dropout(0.2))\n",
        "#LSTM은 RNN에서 기억 값에 대한 가중치를 제어\n",
        "#LSTM(기사당 단어수, 기타옵션)\n",
        "tmodel32_ddd.add(Dense(16,  activation = 'softmax'))\n",
        "tmodel32_ddd.add(Dropout(0.2))\n",
        "tmodel32_ddd.compile(loss = 'categorical_crossentropy', optimizer = 'adam', metrics=['acc'])\n",
        "tmodel32_ddd.summary()"
      ],
      "execution_count": null,
      "outputs": []
    },
    {
      "cell_type": "code",
      "metadata": {
        "id": "8ms3UQSx37MU"
      },
      "source": [
        "thistory_32_ddd = tmodel32_ddd.fit(X_train, y_train, batch_size=128, epochs=15, validation_split = 0.3)"
      ],
      "execution_count": null,
      "outputs": []
    },
    {
      "cell_type": "code",
      "metadata": {
        "id": "1oXC2y5S39Xc"
      },
      "source": [
        "\n",
        "plt.plot(thistory_32_ddd.history['acc'])\n",
        "plt.plot(thistory_32_ddd.history['val_acc'])\n",
        "plt.title('Model accuracy')\n",
        "plt.xlabel('Epoch')\n",
        "plt.ylabel('Accuracy')\n",
        "plt.legend(['Train', 'Test'], loc='upper left')\n",
        "plt.show()\n",
        "\n",
        "plt.plot(thistory_32_ddd.history['loss'])\n",
        "plt.plot(thistory_32_ddd.history['val_loss'])\n",
        "plt.title('Model loss')\n",
        "plt.xlabel('epoch')\n",
        "plt.ylabel('loss')\n",
        "plt.legend(['Train', 'Test'], loc='upper left')\n",
        "plt.show()"
      ],
      "execution_count": null,
      "outputs": []
    },
    {
      "cell_type": "code",
      "metadata": {
        "id": "-VdMyvZU32ws"
      },
      "source": [
        "\n",
        "test_idx = test['category'].values\n",
        "\n",
        "\n",
        "cnt_32 = 0\n",
        "cnt_32ddd = 0\n",
        "\n",
        "y_pred_32 = model32.predict_classes(testdata)\n",
        "y_pred_32_ddd = model32_ddd.predict_classes(testdata)\n",
        "\n",
        "for i in range(len(test_idx)):\n",
        "    if(test_idx[i] == y_pred_32[i]):\n",
        "        cnt_32 = cnt_32 + 1\n",
        "\n",
        "\n",
        "for i in range(len(test_idx)):\n",
        "    if(test_idx[i] == y_pred_32_ddd[i]):\n",
        "        cnt_32ddd = cnt_32ddd + 1\n",
        "\n",
        "print('layer32 일치율 : ', (cnt_32/len(y_pred_32))*100 )\n",
        "print('layer32 일치율 : ', (cnt_32ddd/len(y_pred_32))*100 )"
      ],
      "execution_count": null,
      "outputs": []
    },
    {
      "cell_type": "markdown",
      "metadata": {
        "id": "HElpvqmhBkcU"
      },
      "source": [
        "**(1) Layer16**"
      ]
    },
    {
      "cell_type": "markdown",
      "metadata": {
        "id": "3P41vkIsBnX3"
      },
      "source": [
        "i) dropout 2개"
      ]
    },
    {
      "cell_type": "code",
      "metadata": {
        "colab": {
          "base_uri": "https://localhost:8080/"
        },
        "id": "6Fj5UuQ_sJZo",
        "outputId": "f7781d6d-6593-46bc-9ed5-3fbb60d5596b"
      },
      "source": [
        "model16_2 = Sequential()\n",
        "model16_2.add(Embedding(vocab_size, 16, input_length=max_len)) \n",
        "model16_2.add(LSTM(16))\n",
        "model16_2.add(Dropout(0.2))\n",
        "model16_2.add(Dense(16,  activation = 'softmax'))\n",
        "model16_2.add(Dropout(0.2))\n",
        "model16_2.compile(loss = 'categorical_crossentropy', optimizer = 'adam', metrics=['acc'])\n",
        "model16_2.summary()"
      ],
      "execution_count": null,
      "outputs": [
        {
          "output_type": "stream",
          "text": [
            "Model: \"sequential_1\"\n",
            "_________________________________________________________________\n",
            "Layer (type)                 Output Shape              Param #   \n",
            "=================================================================\n",
            "embedding (Embedding)        (None, 500, 16)           480000    \n",
            "_________________________________________________________________\n",
            "lstm (LSTM)                  (None, 16)                2112      \n",
            "_________________________________________________________________\n",
            "dropout (Dropout)            (None, 16)                0         \n",
            "_________________________________________________________________\n",
            "dense (Dense)                (None, 16)                272       \n",
            "_________________________________________________________________\n",
            "dropout_1 (Dropout)          (None, 16)                0         \n",
            "=================================================================\n",
            "Total params: 482,384\n",
            "Trainable params: 482,384\n",
            "Non-trainable params: 0\n",
            "_________________________________________________________________\n"
          ],
          "name": "stdout"
        }
      ]
    },
    {
      "cell_type": "code",
      "metadata": {
        "colab": {
          "base_uri": "https://localhost:8080/"
        },
        "id": "U1B3Zs0Ytbpk",
        "outputId": "0498b175-5934-4708-d36e-2fc9c44106d1"
      },
      "source": [
        "history_16_2 = model16_2.fit(X_train, y_train, batch_size=128, epochs=15, validation_split = 0.3)"
      ],
      "execution_count": null,
      "outputs": [
        {
          "output_type": "stream",
          "text": [
            "Epoch 1/15\n",
            "720/720 [==============================] - 24s 33ms/step - loss: 4.9096 - acc: 0.2308 - val_loss: 2.0587 - val_acc: 0.3555\n",
            "Epoch 2/15\n",
            "720/720 [==============================] - 23s 32ms/step - loss: 4.5646 - acc: 0.3598 - val_loss: 1.8685 - val_acc: 0.4162\n",
            "Epoch 3/15\n",
            "720/720 [==============================] - 23s 32ms/step - loss: 4.4607 - acc: 0.4215 - val_loss: 1.7850 - val_acc: 0.4658\n",
            "Epoch 4/15\n",
            "720/720 [==============================] - 23s 32ms/step - loss: 4.3427 - acc: 0.4589 - val_loss: 1.8319 - val_acc: 0.4533\n",
            "Epoch 5/15\n",
            "720/720 [==============================] - 23s 32ms/step - loss: 4.2900 - acc: 0.4836 - val_loss: 1.6891 - val_acc: 0.5160\n",
            "Epoch 6/15\n",
            "720/720 [==============================] - 23s 32ms/step - loss: 4.1819 - acc: 0.5155 - val_loss: 1.6753 - val_acc: 0.5175\n",
            "Epoch 7/15\n",
            "720/720 [==============================] - 23s 33ms/step - loss: 4.1476 - acc: 0.5304 - val_loss: 1.6717 - val_acc: 0.5298\n",
            "Epoch 8/15\n",
            "720/720 [==============================] - 24s 33ms/step - loss: 4.0674 - acc: 0.5477 - val_loss: 1.6790 - val_acc: 0.5317\n",
            "Epoch 9/15\n",
            "720/720 [==============================] - 24s 33ms/step - loss: 4.0578 - acc: 0.5573 - val_loss: 1.7035 - val_acc: 0.5350\n",
            "Epoch 10/15\n",
            "720/720 [==============================] - 23s 33ms/step - loss: 4.0057 - acc: 0.5700 - val_loss: 1.7143 - val_acc: 0.5333\n",
            "Epoch 11/15\n",
            "720/720 [==============================] - 23s 33ms/step - loss: 4.0230 - acc: 0.5767 - val_loss: 1.7386 - val_acc: 0.5287\n",
            "Epoch 12/15\n",
            "720/720 [==============================] - 24s 33ms/step - loss: 3.9930 - acc: 0.5824 - val_loss: 1.7512 - val_acc: 0.5301\n",
            "Epoch 13/15\n",
            "720/720 [==============================] - 24s 33ms/step - loss: 4.0833 - acc: 0.5523 - val_loss: 1.7628 - val_acc: 0.5114\n",
            "Epoch 14/15\n",
            "720/720 [==============================] - 23s 33ms/step - loss: 3.9710 - acc: 0.5828 - val_loss: 1.7799 - val_acc: 0.5258\n",
            "Epoch 15/15\n",
            "720/720 [==============================] - 23s 33ms/step - loss: 3.8885 - acc: 0.6028 - val_loss: 1.8057 - val_acc: 0.5232\n"
          ],
          "name": "stdout"
        }
      ]
    },
    {
      "cell_type": "code",
      "metadata": {
        "id": "P-xwy2-4uZXD"
      },
      "source": [
        "model16_2.save('model16_2_ep15.h5')"
      ],
      "execution_count": null,
      "outputs": []
    },
    {
      "cell_type": "code",
      "metadata": {
        "id": "mSOvYCV4sagX"
      },
      "source": [
        "model = load_model('mnist_mlp_model.h5')"
      ],
      "execution_count": null,
      "outputs": []
    },
    {
      "cell_type": "code",
      "metadata": {
        "colab": {
          "base_uri": "https://localhost:8080/",
          "height": 573
        },
        "id": "jS3BNxk20ROJ",
        "outputId": "2e491a85-c20a-4b5c-bcc3-1e8c2dac68c6"
      },
      "source": [
        "#Layer(16)+D(2)\n",
        "plt.plot(history_16_2.history['acc'])\n",
        "plt.plot(history_16_2.history['val_acc'])\n",
        "plt.title('Model accuracy')\n",
        "plt.xlabel('Epoch')\n",
        "plt.ylabel('Accuracy')\n",
        "plt.legend(['Train', 'Test'], loc='upper left')\n",
        "plt.show()\n",
        "\n",
        "plt.plot(history_16_2.history['loss'])\n",
        "plt.plot(history_16_2.history['val_loss'])\n",
        "plt.title('Model loss')\n",
        "plt.xlabel('epoch')\n",
        "plt.ylabel('loss')\n",
        "plt.legend(['Train', 'Test'], loc='upper left')\n",
        "plt.show()"
      ],
      "execution_count": null,
      "outputs": [
        {
          "output_type": "display_data",
          "data": {
            "image/png": "[encoded data removed]",
            "text/plain": [
              "<Figure size 432x288 with 1 Axes>"
            ]
          },
          "metadata": {
            "tags": []
          }
        },
        {
          "output_type": "display_data",
          "data": {
            "image/png": "[encoded data removed]",
            "text/plain": [
              "<Figure size 432x288 with 1 Axes>"
            ]
          },
          "metadata": {
            "tags": []
          }
        }
      ]
    },
    {
      "cell_type": "markdown",
      "metadata": {
        "id": "meFCuCOOBweG"
      },
      "source": [
        "ii) dropout 1개"
      ]
    },
    {
      "cell_type": "code",
      "metadata": {
        "colab": {
          "base_uri": "https://localhost:8080/"
        },
        "id": "0R2zvh5Pnok4",
        "outputId": "31d641bf-3ae4-468f-929e-121339f5cae7"
      },
      "source": [
        "model16 = Sequential()\n",
        "model16.add(Embedding(vocab_size, 16, input_length=max_len)) \n",
        "model16.add(LSTM(16))\n",
        "model16.add(Dropout(0.2))\n",
        "model16.add(Dense(16,  activation = 'softmax'))\n",
        "model16.compile(loss = 'categorical_crossentropy', optimizer = 'adam', metrics=['acc'])\n",
        "model16.summary()"
      ],
      "execution_count": null,
      "outputs": [
        {
          "output_type": "stream",
          "text": [
            "Model: \"sequential_2\"\n",
            "_________________________________________________________________\n",
            "Layer (type)                 Output Shape              Param #   \n",
            "=================================================================\n",
            "embedding_1 (Embedding)      (None, 500, 16)           480000    \n",
            "_________________________________________________________________\n",
            "lstm_1 (LSTM)                (None, 16)                2112      \n",
            "_________________________________________________________________\n",
            "dropout_2 (Dropout)          (None, 16)                0         \n",
            "_________________________________________________________________\n",
            "dense_1 (Dense)              (None, 16)                272       \n",
            "=================================================================\n",
            "Total params: 482,384\n",
            "Trainable params: 482,384\n",
            "Non-trainable params: 0\n",
            "_________________________________________________________________\n"
          ],
          "name": "stdout"
        }
      ]
    },
    {
      "cell_type": "code",
      "metadata": {
        "colab": {
          "base_uri": "https://localhost:8080/"
        },
        "id": "qdFqW4wqoswO",
        "outputId": "7914a1d9-3788-4c9d-b3a5-fceb6822181a"
      },
      "source": [
        "history_16 = model16.fit(X_train, y_train, batch_size=128, epochs=15, validation_split = 0.3)"
      ],
      "execution_count": null,
      "outputs": [
        {
          "output_type": "stream",
          "text": [
            "Epoch 1/15\n",
            "720/720 [==============================] - 25s 34ms/step - loss: 2.2665 - acc: 0.2818 - val_loss: 2.0665 - val_acc: 0.3444\n",
            "Epoch 2/15\n",
            "720/720 [==============================] - 24s 33ms/step - loss: 1.9240 - acc: 0.3890 - val_loss: 1.9361 - val_acc: 0.3965\n",
            "Epoch 3/15\n",
            "720/720 [==============================] - 23s 33ms/step - loss: 1.7250 - acc: 0.4694 - val_loss: 1.8707 - val_acc: 0.4159\n",
            "Epoch 4/15\n",
            "720/720 [==============================] - 23s 33ms/step - loss: 1.5876 - acc: 0.5145 - val_loss: 1.7525 - val_acc: 0.4742\n",
            "Epoch 5/15\n",
            "720/720 [==============================] - 23s 32ms/step - loss: 1.4251 - acc: 0.5883 - val_loss: 1.6884 - val_acc: 0.5199\n",
            "Epoch 6/15\n",
            "720/720 [==============================] - 24s 33ms/step - loss: 1.3067 - acc: 0.6353 - val_loss: 1.6847 - val_acc: 0.5301\n",
            "Epoch 7/15\n",
            "720/720 [==============================] - 24s 33ms/step - loss: 1.2130 - acc: 0.6640 - val_loss: 1.6715 - val_acc: 0.5378\n",
            "Epoch 8/15\n",
            "720/720 [==============================] - 24s 33ms/step - loss: 1.1441 - acc: 0.6849 - val_loss: 1.7156 - val_acc: 0.5406\n",
            "Epoch 9/15\n",
            "720/720 [==============================] - 24s 33ms/step - loss: 1.0947 - acc: 0.6966 - val_loss: 1.7124 - val_acc: 0.5368\n",
            "Epoch 10/15\n",
            "720/720 [==============================] - 23s 32ms/step - loss: 1.0394 - acc: 0.7142 - val_loss: 1.7557 - val_acc: 0.5296\n",
            "Epoch 11/15\n",
            "720/720 [==============================] - 23s 32ms/step - loss: 1.0114 - acc: 0.7206 - val_loss: 1.7961 - val_acc: 0.5290\n",
            "Epoch 12/15\n",
            "720/720 [==============================] - 23s 32ms/step - loss: 0.9523 - acc: 0.7382 - val_loss: 1.8178 - val_acc: 0.5266\n",
            "Epoch 13/15\n",
            "720/720 [==============================] - 23s 32ms/step - loss: 0.9209 - acc: 0.7493 - val_loss: 1.8583 - val_acc: 0.5233\n",
            "Epoch 14/15\n",
            "720/720 [==============================] - 24s 33ms/step - loss: 0.8944 - acc: 0.7552 - val_loss: 1.9240 - val_acc: 0.5211\n",
            "Epoch 15/15\n",
            "720/720 [==============================] - 23s 32ms/step - loss: 0.8720 - acc: 0.7609 - val_loss: 1.9608 - val_acc: 0.5110\n"
          ],
          "name": "stdout"
        }
      ]
    },
    {
      "cell_type": "code",
      "metadata": {
        "id": "P3HibcS1sGE9"
      },
      "source": [
        "model16.save('model16_ep15.h5')"
      ],
      "execution_count": null,
      "outputs": []
    },
    {
      "cell_type": "code",
      "metadata": {
        "id": "vXD7jnWbs1km"
      },
      "source": [
        "model16 = load_model('/content/gdrive/MyDrive/model16_ep15.h5')"
      ],
      "execution_count": null,
      "outputs": []
    },
    {
      "cell_type": "code",
      "metadata": {
        "colab": {
          "base_uri": "https://localhost:8080/",
          "height": 573
        },
        "id": "Kalf65Vzs_ct",
        "outputId": "4f9da11a-bfa8-4ee5-fec6-3e677ebd16f9"
      },
      "source": [
        "#\n",
        "plt.plot(history_16.history['acc'])\n",
        "plt.plot(history_16.history['val_acc'])\n",
        "plt.title('Model accuracy')\n",
        "plt.xlabel('Epoch')\n",
        "plt.ylabel('Accuracy')\n",
        "plt.legend(['Train', 'Test'], loc='upper left')\n",
        "plt.show()\n",
        "\n",
        "plt.plot(history_16.history['loss'])\n",
        "plt.plot(history_16.history['val_loss'])\n",
        "plt.title('Model loss')\n",
        "plt.xlabel('epoch')\n",
        "plt.ylabel('loss')\n",
        "plt.legend(['Train', 'Test'], loc='upper left')\n",
        "plt.show()\n"
      ],
      "execution_count": null,
      "outputs": [
        {
          "output_type": "display_data",
          "data": {
            "image/png": "[encoded data removed]",
            "text/plain": [
              "<Figure size 432x288 with 1 Axes>"
            ]
          },
          "metadata": {
            "tags": []
          }
        },
        {
          "output_type": "display_data",
          "data": {
            "image/png": "[encoded data removed]",
            "text/plain": [
              "<Figure size 432x288 with 1 Axes>"
            ]
          },
          "metadata": {
            "tags": []
          }
        }
      ]
    },
    {
      "cell_type": "code",
      "metadata": {
        "colab": {
          "base_uri": "https://localhost:8080/"
        },
        "id": "guzCt3tpB5FJ",
        "outputId": "cab1df3b-0de4-45f5-e7dc-3fef7790ccdf"
      },
      "source": [
        "model16_0 = Sequential()\n",
        "model16_0.add(Embedding(vocab_size, 16, input_length=max_len)) \n",
        "model16_0.add(LSTM(16))\n",
        "model16_0.add(Dense(16,  activation = 'softmax'))\n",
        "model16_0.compile(loss = 'categorical_crossentropy', optimizer = 'adam', metrics=['acc'])\n",
        "model16_0.summary()"
      ],
      "execution_count": null,
      "outputs": [
        {
          "output_type": "stream",
          "text": [
            "Model: \"sequential_5\"\n",
            "_________________________________________________________________\n",
            "Layer (type)                 Output Shape              Param #   \n",
            "=================================================================\n",
            "embedding_4 (Embedding)      (None, 500, 16)           480000    \n",
            "_________________________________________________________________\n",
            "lstm_4 (LSTM)                (None, 16)                2112      \n",
            "_________________________________________________________________\n",
            "dense_4 (Dense)              (None, 16)                272       \n",
            "=================================================================\n",
            "Total params: 482,384\n",
            "Trainable params: 482,384\n",
            "Non-trainable params: 0\n",
            "_________________________________________________________________\n"
          ],
          "name": "stdout"
        }
      ]
    },
    {
      "cell_type": "code",
      "metadata": {
        "colab": {
          "base_uri": "https://localhost:8080/"
        },
        "id": "FRyCB5DRCDgj",
        "outputId": "c1b2b6dc-1fb9-47c7-bb5a-b723c7dc8141"
      },
      "source": [
        "history_16_0 = model16_0.fit(X_train, y_train, batch_size=128, epochs=15, validation_split = 0.3)"
      ],
      "execution_count": null,
      "outputs": [
        {
          "output_type": "stream",
          "text": [
            "Epoch 1/15\n",
            "720/720 [==============================] - 24s 33ms/step - loss: 2.2699 - acc: 0.2542 - val_loss: 2.0571 - val_acc: 0.3367\n",
            "Epoch 2/15\n",
            "720/720 [==============================] - 23s 31ms/step - loss: 1.8207 - acc: 0.4457 - val_loss: 1.8863 - val_acc: 0.4295\n",
            "Epoch 3/15\n",
            "720/720 [==============================] - 23s 31ms/step - loss: 1.6054 - acc: 0.5337 - val_loss: 1.7845 - val_acc: 0.4819\n",
            "Epoch 4/15\n",
            "720/720 [==============================] - 23s 32ms/step - loss: 1.4552 - acc: 0.5819 - val_loss: 1.7541 - val_acc: 0.5045\n",
            "Epoch 5/15\n",
            "720/720 [==============================] - 23s 32ms/step - loss: 1.3525 - acc: 0.6145 - val_loss: 1.7310 - val_acc: 0.5136\n",
            "Epoch 6/15\n",
            "720/720 [==============================] - 23s 32ms/step - loss: 1.2675 - acc: 0.6447 - val_loss: 1.7225 - val_acc: 0.5189\n",
            "Epoch 7/15\n",
            "720/720 [==============================] - 23s 32ms/step - loss: 1.2024 - acc: 0.6644 - val_loss: 1.7336 - val_acc: 0.5138\n",
            "Epoch 8/15\n",
            "720/720 [==============================] - 23s 31ms/step - loss: 1.1522 - acc: 0.6790 - val_loss: 1.7477 - val_acc: 0.5112\n",
            "Epoch 9/15\n",
            "720/720 [==============================] - 23s 32ms/step - loss: 1.0988 - acc: 0.6950 - val_loss: 1.7627 - val_acc: 0.5239\n",
            "Epoch 10/15\n",
            "720/720 [==============================] - 23s 31ms/step - loss: 1.0784 - acc: 0.6997 - val_loss: 1.8327 - val_acc: 0.5130\n",
            "Epoch 11/15\n",
            "720/720 [==============================] - 23s 32ms/step - loss: 1.0432 - acc: 0.7091 - val_loss: 1.8326 - val_acc: 0.5077\n",
            "Epoch 12/15\n",
            "720/720 [==============================] - 23s 32ms/step - loss: 0.9860 - acc: 0.7277 - val_loss: 1.8374 - val_acc: 0.5149\n",
            "Epoch 13/15\n",
            "720/720 [==============================] - 23s 31ms/step - loss: 0.9399 - acc: 0.7414 - val_loss: 1.8545 - val_acc: 0.5102\n",
            "Epoch 14/15\n",
            "720/720 [==============================] - 23s 31ms/step - loss: 0.9091 - acc: 0.7493 - val_loss: 1.8742 - val_acc: 0.5131\n",
            "Epoch 15/15\n",
            "720/720 [==============================] - 23s 31ms/step - loss: 0.8674 - acc: 0.7625 - val_loss: 1.9409 - val_acc: 0.5065\n"
          ],
          "name": "stdout"
        }
      ]
    },
    {
      "cell_type": "code",
      "metadata": {
        "colab": {
          "base_uri": "https://localhost:8080/",
          "height": 573
        },
        "id": "oRjP8873CYqO",
        "outputId": "8ec9a219-9ca5-411f-8fea-3c68c5e9bc39"
      },
      "source": [
        "#\n",
        "plt.plot(history_16_0.history['acc'])\n",
        "plt.plot(history_16_0.history['val_acc'])\n",
        "plt.title('Model accuracy')\n",
        "plt.xlabel('Epoch')\n",
        "plt.ylabel('Accuracy')\n",
        "plt.legend(['Train', 'Test'], loc='upper left')\n",
        "plt.show()\n",
        "\n",
        "plt.plot(history_16_0.history['loss'])\n",
        "plt.plot(history_16_0.history['val_loss'])\n",
        "plt.title('Model loss')\n",
        "plt.xlabel('epoch')\n",
        "plt.ylabel('loss')\n",
        "plt.legend(['Train', 'Test'], loc='upper left')\n",
        "plt.show()\n"
      ],
      "execution_count": null,
      "outputs": [
        {
          "output_type": "display_data",
          "data": {
            "image/png": "[encoded data removed]",
            "text/plain": [
              "<Figure size 432x288 with 1 Axes>"
            ]
          },
          "metadata": {
            "tags": []
          }
        },
        {
          "output_type": "display_data",
          "data": {
            "image/png": "[encoded data removed]",
            "text/plain": [
              "<Figure size 432x288 with 1 Axes>"
            ]
          },
          "metadata": {
            "tags": []
          }
        }
      ]
    },
    {
      "cell_type": "code",
      "metadata": {
        "id": "ZAbd7Xoh9R5u"
      },
      "source": [
        "test_idx = test['category'].values"
      ],
      "execution_count": null,
      "outputs": []
    },
    {
      "cell_type": "code",
      "metadata": {
        "colab": {
          "base_uri": "https://localhost:8080/"
        },
        "id": "VbzuISD2u3KU",
        "outputId": "d19870ef-90f6-44fb-bf18-677a97de4a24"
      },
      "source": [
        "cnt_1 = 0\n",
        "cnt_2 = 0\n",
        "cnt_3 = 0\n",
        "\n",
        "y_pred_16 = model16_0.predict_classes(testdata)\n",
        "y_pred_16_d = model16.predict_classes(testdata)\n",
        "y_pred_16_dd = model16_2.predict_classes(testdata)\n",
        "\n",
        "for i in range(len(test_idx)):\n",
        "    if(test_idx[i] == y_pred_16_d[i]):\n",
        "        cnt_1 = cnt_1 + 1\n",
        "for i in range(len(test_idx)):\n",
        "    if(test_idx[i] == y_pred_16_dd[i]):\n",
        "        cnt_2 = cnt_2 + 1\n",
        "for i in range(len(test_idx)):\n",
        "    if(test_idx[i] == y_pred_16[i]):\n",
        "        cnt_3 = cnt_3 + 1\n",
        "\n",
        "print('Layer(16) 일치율 : ', (cnt_3/len(y_pred_16_d))*100 )\n",
        "print('Layer(16)+D 1 일치율 : ', (cnt_1/len(y_pred_16_d))*100 )\n",
        "print('Layer(16)+D 2 일치율 : ', (cnt_2/len(y_pred_16_d))*100 )"
      ],
      "execution_count": null,
      "outputs": [
        {
          "output_type": "stream",
          "text": [
            "Layer(16) 일치율 :  50.816326530612244\n",
            "Layer(16)+D 1 일치율 :  50.204081632653065\n",
            "Layer(16)+D 2 일치율 :  51.83673469387755\n"
          ],
          "name": "stdout"
        }
      ]
    },
    {
      "cell_type": "markdown",
      "metadata": {
        "id": "YiOvgXsR8ucD"
      },
      "source": [
        "(1) Layer 32 "
      ]
    },
    {
      "cell_type": "code",
      "metadata": {
        "id": "vSgbwC41vX5S"
      },
      "source": [
        "\n",
        "\n",
        "model32 = Sequential()\n",
        "model32.add(Embedding(vocab_size, 32, input_length=max_len)) \n",
        "model32.add(LSTM(32))\n",
        "model32.add(Dense(16,  activation = 'softmax'))\n",
        "model32.compile(loss = 'categorical_crossentropy', optimizer = 'adam', metrics=['acc'])\n",
        "model32.summary()\n",
        "\n",
        "history_32 = model32.fit(X_train, y_train, batch_size=128, epochs=15, validation_split = 0.3)           "
      ],
      "execution_count": null,
      "outputs": []
    },
    {
      "cell_type": "code",
      "metadata": {
        "colab": {
          "base_uri": "https://localhost:8080/"
        },
        "id": "uEzyAp21vbtJ",
        "outputId": "6eec625e-472c-46fe-b522-9b0974779782"
      },
      "source": [
        "history_32 = model32.fit(X_train, y_train, batch_size=128, epochs=15, validation_split = 0.3)"
      ],
      "execution_count": null,
      "outputs": [
        {
          "output_type": "stream",
          "text": [
            "Epoch 1/15\n",
            "720/720 [==============================] - 28s 39ms/step - loss: 2.1079 - acc: 0.3348 - val_loss: 1.8839 - val_acc: 0.4275\n",
            "Epoch 2/15\n",
            "720/720 [==============================] - 27s 37ms/step - loss: 1.6560 - acc: 0.5156 - val_loss: 1.7265 - val_acc: 0.4965\n",
            "Epoch 3/15\n",
            "720/720 [==============================] - 27s 37ms/step - loss: 1.4120 - acc: 0.5949 - val_loss: 1.7032 - val_acc: 0.5063\n",
            "Epoch 4/15\n",
            "720/720 [==============================] - 27s 37ms/step - loss: 1.3191 - acc: 0.6182 - val_loss: 1.6297 - val_acc: 0.5377\n",
            "Epoch 5/15\n",
            "720/720 [==============================] - 27s 37ms/step - loss: 1.2229 - acc: 0.6495 - val_loss: 1.6139 - val_acc: 0.5409\n",
            "Epoch 6/15\n",
            "720/720 [==============================] - 27s 37ms/step - loss: 1.1172 - acc: 0.6776 - val_loss: 1.6109 - val_acc: 0.5495\n",
            "Epoch 7/15\n",
            "720/720 [==============================] - 27s 37ms/step - loss: 1.0409 - acc: 0.6993 - val_loss: 1.6128 - val_acc: 0.5441\n",
            "Epoch 8/15\n",
            "720/720 [==============================] - 27s 37ms/step - loss: 0.9902 - acc: 0.7152 - val_loss: 1.6468 - val_acc: 0.5452\n",
            "Epoch 9/15\n",
            "720/720 [==============================] - 27s 38ms/step - loss: 0.9257 - acc: 0.7334 - val_loss: 1.6727 - val_acc: 0.5406\n",
            "Epoch 10/15\n",
            "720/720 [==============================] - 27s 37ms/step - loss: 0.9197 - acc: 0.7338 - val_loss: 1.7165 - val_acc: 0.5368\n",
            "Epoch 11/15\n",
            "720/720 [==============================] - 27s 37ms/step - loss: 0.8729 - acc: 0.7482 - val_loss: 1.8313 - val_acc: 0.4891\n",
            "Epoch 12/15\n",
            "720/720 [==============================] - 27s 37ms/step - loss: 0.8182 - acc: 0.7646 - val_loss: 1.7821 - val_acc: 0.5260\n",
            "Epoch 13/15\n",
            "720/720 [==============================] - 27s 37ms/step - loss: 0.7423 - acc: 0.7883 - val_loss: 1.8528 - val_acc: 0.5242\n",
            "Epoch 14/15\n",
            "720/720 [==============================] - 27s 37ms/step - loss: 0.7018 - acc: 0.7994 - val_loss: 1.9098 - val_acc: 0.5189\n",
            "Epoch 15/15\n",
            "720/720 [==============================] - 27s 37ms/step - loss: 0.6734 - acc: 0.8080 - val_loss: 1.9740 - val_acc: 0.5101\n"
          ],
          "name": "stdout"
        }
      ]
    },
    {
      "cell_type": "code",
      "metadata": {
        "colab": {
          "base_uri": "https://localhost:8080/",
          "height": 573
        },
        "id": "d_pok47u10Wb",
        "outputId": "7d28d8e7-2a18-4729-ab45-c5234a9f45ec"
      },
      "source": [
        "\n",
        "plt.plot(history_32.history['acc'])\n",
        "plt.plot(history_32.history['val_acc'])\n",
        "plt.title('Model accuracy')\n",
        "plt.xlabel('Epoch')\n",
        "plt.ylabel('Accuracy')\n",
        "plt.legend(['Train', 'Test'], loc='upper left')\n",
        "plt.show()\n",
        "\n",
        "plt.plot(history_32.history['loss'])\n",
        "plt.plot(history_32.history['val_loss'])\n",
        "plt.title('Model loss')\n",
        "plt.xlabel('epoch')\n",
        "plt.ylabel('loss')\n",
        "plt.legend(['Train', 'Test'], loc='upper left')\n",
        "plt.show()\n"
      ],
      "execution_count": null,
      "outputs": [
        {
          "output_type": "display_data",
          "data": {
            "image/png": "[encoded data removed]",
            "text/plain": [
              "<Figure size 432x288 with 1 Axes>"
            ]
          },
          "metadata": {
            "tags": []
          }
        },
        {
          "output_type": "display_data",
          "data": {
            "image/png": "[encoded data removed]",
            "text/plain": [
              "<Figure size 432x288 with 1 Axes>"
            ]
          },
          "metadata": {
            "tags": []
          }
        }
      ]
    },
    {
      "cell_type": "code",
      "metadata": {
        "colab": {
          "base_uri": "https://localhost:8080/"
        },
        "id": "rw2pOkcy2dZB",
        "outputId": "1f95bb48-a8e7-4b5d-d40b-8d4054fd3467"
      },
      "source": [
        "\n",
        "model32_ddd = Sequential()\n",
        "model32_ddd.add(Embedding(vocab_size, 32, input_length=max_len)) \n",
        "model32_ddd.add(Dropout(0.2))\n",
        "model32_ddd.add(LSTM(32))\n",
        "model32_ddd.add(Dropout(0.2))\n",
        "model32_ddd.add(Dense(16,  activation = 'softmax'))\n",
        "model32_ddd.add(Dropout(0.2))\n",
        "model32_ddd.compile(loss = 'categorical_crossentropy', optimizer = 'adam', metrics=['acc'])\n",
        "model32_ddd.summary()\n",
        "\n",
        "history_32_ddd = model32_ddd.fit(X_train, y_train, batch_size=128, epochs=15, validation_split = 0.3)"
      ],
      "execution_count": null,
      "outputs": [
        {
          "output_type": "stream",
          "text": [
            "Model: \"sequential_4\"\n",
            "_________________________________________________________________\n",
            "Layer (type)                 Output Shape              Param #   \n",
            "=================================================================\n",
            "embedding_3 (Embedding)      (None, 500, 32)           960000    \n",
            "_________________________________________________________________\n",
            "dropout_3 (Dropout)          (None, 500, 32)           0         \n",
            "_________________________________________________________________\n",
            "lstm_3 (LSTM)                (None, 32)                8320      \n",
            "_________________________________________________________________\n",
            "dropout_4 (Dropout)          (None, 32)                0         \n",
            "_________________________________________________________________\n",
            "dense_3 (Dense)              (None, 16)                528       \n",
            "_________________________________________________________________\n",
            "dropout_5 (Dropout)          (None, 16)                0         \n",
            "=================================================================\n",
            "Total params: 968,848\n",
            "Trainable params: 968,848\n",
            "Non-trainable params: 0\n",
            "_________________________________________________________________\n"
          ],
          "name": "stdout"
        }
      ]
    },
    {
      "cell_type": "code",
      "metadata": {
        "colab": {
          "base_uri": "https://localhost:8080/"
        },
        "id": "fW8TLKZ92Sw_",
        "outputId": "33ac4ab4-052f-423b-ed38-43e7d70e9fe6"
      },
      "source": [
        "\n",
        "history_32_ddd = model32_ddd.fit(X_train, y_train, batch_size=128, epochs=15, validation_split = 0.3)"
      ],
      "execution_count": null,
      "outputs": [
        {
          "output_type": "stream",
          "text": [
            "Epoch 1/15\n",
            "720/720 [==============================] - 28s 39ms/step - loss: 4.7537 - acc: 0.2952 - val_loss: 1.8797 - val_acc: 0.4163\n",
            "Epoch 2/15\n",
            "720/720 [==============================] - 28s 39ms/step - loss: 4.4059 - acc: 0.4322 - val_loss: 1.7250 - val_acc: 0.4896\n",
            "Epoch 3/15\n",
            "720/720 [==============================] - 28s 38ms/step - loss: 4.2864 - acc: 0.4750 - val_loss: 1.6563 - val_acc: 0.5209\n",
            "Epoch 4/15\n",
            "720/720 [==============================] - 28s 38ms/step - loss: 4.2371 - acc: 0.4964 - val_loss: 1.6339 - val_acc: 0.5261\n",
            "Epoch 5/15\n",
            "720/720 [==============================] - 28s 39ms/step - loss: 4.1897 - acc: 0.5147 - val_loss: 1.5990 - val_acc: 0.5441\n",
            "Epoch 6/15\n",
            "720/720 [==============================] - 28s 39ms/step - loss: 4.1197 - acc: 0.5351 - val_loss: 1.6021 - val_acc: 0.5486\n",
            "Epoch 7/15\n",
            "720/720 [==============================] - 28s 38ms/step - loss: 4.0955 - acc: 0.5456 - val_loss: 1.6152 - val_acc: 0.5461\n",
            "Epoch 8/15\n",
            "720/720 [==============================] - 28s 38ms/step - loss: 4.0280 - acc: 0.5601 - val_loss: 1.6067 - val_acc: 0.5487\n",
            "Epoch 9/15\n",
            "720/720 [==============================] - 27s 38ms/step - loss: 4.0091 - acc: 0.5696 - val_loss: 1.6226 - val_acc: 0.5478\n",
            "Epoch 10/15\n",
            "720/720 [==============================] - 28s 38ms/step - loss: 3.9841 - acc: 0.5776 - val_loss: 1.6208 - val_acc: 0.5525\n",
            "Epoch 11/15\n",
            "720/720 [==============================] - 28s 38ms/step - loss: 3.9153 - acc: 0.5889 - val_loss: 1.6766 - val_acc: 0.5526\n",
            "Epoch 12/15\n",
            "720/720 [==============================] - 28s 39ms/step - loss: 3.8828 - acc: 0.5970 - val_loss: 1.6777 - val_acc: 0.5484\n",
            "Epoch 13/15\n",
            "720/720 [==============================] - 28s 38ms/step - loss: 3.8587 - acc: 0.6023 - val_loss: 1.6860 - val_acc: 0.5546\n",
            "Epoch 14/15\n",
            "720/720 [==============================] - 28s 39ms/step - loss: 3.8494 - acc: 0.6096 - val_loss: 1.7225 - val_acc: 0.5388\n",
            "Epoch 15/15\n",
            "720/720 [==============================] - 28s 38ms/step - loss: 3.8000 - acc: 0.6179 - val_loss: 1.7586 - val_acc: 0.5346\n"
          ],
          "name": "stdout"
        }
      ]
    },
    {
      "cell_type": "code",
      "metadata": {
        "colab": {
          "base_uri": "https://localhost:8080/",
          "height": 573
        },
        "id": "wyi6UljI2TIB",
        "outputId": "ca298875-d5f0-443b-e173-698c85c2d52b"
      },
      "source": [
        "\n",
        "plt.plot(history_32_ddd.history['acc'])\n",
        "plt.plot(history_32_ddd.history['val_acc'])\n",
        "plt.title('Model accuracy')\n",
        "plt.xlabel('Epoch')\n",
        "plt.ylabel('Accuracy')\n",
        "plt.legend(['Train', 'Test'], loc='upper left')\n",
        "plt.show()\n",
        "\n",
        "plt.plot(history_32_ddd.history['loss'])\n",
        "plt.plot(history_32_ddd.history['val_loss'])\n",
        "plt.title('Model loss')\n",
        "plt.xlabel('epoch')\n",
        "plt.ylabel('loss')\n",
        "plt.legend(['Train', 'Test'], loc='upper left')\n",
        "plt.show()\n"
      ],
      "execution_count": null,
      "outputs": [
        {
          "output_type": "display_data",
          "data": {
            "image/png": "[encoded data removed]",
            "text/plain": [
              "<Figure size 432x288 with 1 Axes>"
            ]
          },
          "metadata": {
            "tags": []
          }
        },
        {
          "output_type": "display_data",
          "data": {
            "image/png": "[encoded data removed]",
            "text/plain": [
              "<Figure size 432x288 with 1 Axes>"
            ]
          },
          "metadata": {
            "tags": []
          }
        }
      ]
    },
    {
      "cell_type": "code",
      "metadata": {
        "colab": {
          "base_uri": "https://localhost:8080/"
        },
        "id": "pvSsgyJL5ZLr",
        "outputId": "2ec9c300-af44-4d25-e32f-d0d2e4f8d9ba"
      },
      "source": [
        "\n",
        "\n",
        "cnt_32 = 0\n",
        "cnt_32ddd = 0\n",
        "\n",
        "y_pred_32 = model32.predict_classes(testdata)\n",
        "y_pred_32_ddd = model32_ddd.predict_classes(testdata)\n",
        "\n",
        "for i in range(len(test_idx)):\n",
        "    if(test_idx[i] == y_pred_32[i]):\n",
        "        cnt_32 = cnt_32 + 1\n",
        "\n",
        "\n",
        "for i in range(len(test_idx)):\n",
        "    if(test_idx[i] == y_pred_32_ddd[i]):\n",
        "        cnt_32ddd = cnt_32ddd + 1\n",
        "\n",
        "print('layer32 일치율 : ', (cnt_32/len(y_pred_32))*100 )\n",
        "print('layer32 일치율 : ', (cnt_32ddd/len(y_pred_32))*100 )"
      ],
      "execution_count": null,
      "outputs": [
        {
          "output_type": "stream",
          "text": [
            "layer32 일치율 :  51.63265306122449\n",
            "layer32 일치율 :  57.3469387755102\n"
          ],
          "name": "stdout"
        }
      ]
    },
    {
      "cell_type": "markdown",
      "metadata": {
        "id": "dmFKjJNq7vSq"
      },
      "source": [
        "(2) Layer 128"
      ]
    },
    {
      "cell_type": "code",
      "metadata": {
        "id": "Fbyv1SrPxhDy"
      },
      "source": [
        "model128 = Sequential()\n",
        "model128.add(Embedding(vocab_size, 128, input_length=max_len)) \n",
        "model128.add(LSTM(128))\n",
        "model128.add(Dense(16, activation='softmax'))\n",
        "model128.compile(loss = 'categorical_crossentropy', optimizer = 'adam', metrics=['acc'])\n"
      ],
      "execution_count": null,
      "outputs": []
    },
    {
      "cell_type": "code",
      "metadata": {
        "id": "msdZNoqJ75O3"
      },
      "source": [
        "history_128 = model128.fit(X_train, y_train, batch_size=128, epochs=85, validation_split = 0.3)"
      ],
      "execution_count": null,
      "outputs": []
    },
    {
      "cell_type": "code",
      "metadata": {
        "colab": {
          "base_uri": "https://localhost:8080/"
        },
        "id": "ql77m6kINJCG",
        "outputId": "02b2fa24-138f-4182-9899-8f5a5b5c1c67"
      },
      "source": [
        "%cd '/content/gdrive/MyDrive'\n",
        "model32.save('model32_ep100.h5')\n",
        "model128.save('model128_ep20.h5')"
      ],
      "execution_count": null,
      "outputs": [
        {
          "output_type": "stream",
          "text": [
            "/content/gdrive/MyDrive\n"
          ],
          "name": "stdout"
        }
      ]
    },
    {
      "cell_type": "code",
      "metadata": {
        "id": "2TVQp38dvezF"
      },
      "source": [
        "#model = load_model('model30.h5')"
      ],
      "execution_count": null,
      "outputs": []
    },
    {
      "cell_type": "markdown",
      "metadata": {
        "id": "Tvc0Ql-f7AGr"
      },
      "source": [
        "# **5. 결과**"
      ]
    },
    {
      "cell_type": "code",
      "metadata": {
        "colab": {
          "base_uri": "https://localhost:8080/",
          "height": 573
        },
        "id": "04JWPd-8c-6J",
        "outputId": "1b5aeee7-5cdf-474f-fdc5-542f3e3ef4ef"
      },
      "source": [
        "plt.plot(history_128.history['acc'])\n",
        "plt.plot(history_128.history['val_acc'])\n",
        "plt.title('Model accuracy')\n",
        "plt.xlabel('Epoch')\n",
        "plt.ylabel('Accuracy')\n",
        "plt.legend(['Train', 'Test'], loc='upper left')\n",
        "plt.show()\n",
        "\n",
        "plt.plot(history_128.history['loss'])\n",
        "plt.plot(history_128.history['val_loss'])\n",
        "plt.title('Model loss')\n",
        "plt.xlabel('epoch')\n",
        "plt.ylabel('loss')\n",
        "plt.legend(['Train', 'Test'], loc='upper left')\n",
        "plt.show()"
      ],
      "execution_count": null,
      "outputs": [
        {
          "output_type": "display_data",
          "data": {
            "image/png": "[encoded data removed]",
            "text/plain": [
              "<Figure size 432x288 with 1 Axes>"
            ]
          },
          "metadata": {
            "tags": []
          }
        },
        {
          "output_type": "display_data",
          "data": {
            "image/png": "[encoded data removed]",
            "text/plain": [
              "<Figure size 432x288 with 1 Axes>"
            ]
          },
          "metadata": {
            "tags": []
          }
        }
      ]
    },
    {
      "cell_type": "code",
      "metadata": {
        "id": "zLqGcvSWv4D1"
      },
      "source": [
        "\n",
        "cnt_128 = 0\n",
        "y_pred_128 = model128.predict_classes(testdata)\n",
        "\n",
        "for i in range(len(test_idx)):\n",
        "    if(test_idx[i] == y_pred_128[i]):\n",
        "        cnt_128 = cnt_128 + 1\n",
        "\n",
        "print('layer128 일치율 : ', (cnt_128/len(y_pred_128))*100 )"
      ],
      "execution_count": null,
      "outputs": []
    },
    {
      "cell_type": "code",
      "metadata": {
        "colab": {
          "base_uri": "https://localhost:8080/"
        },
        "id": "KhScoITuv7iK",
        "outputId": "a57db65a-af13-4258-ac76-a85110e51b73"
      },
      "source": [
        "print('layer32 일치율 : ', (cnt_32/len(y_pred_32))*100 )\n",
        "print('layer128 일치율 : ', (cnt_128/len(y_pred_128))*100 )"
      ],
      "execution_count": null,
      "outputs": [
        {
          "output_type": "stream",
          "text": [
            "layer32 일치율 :  50.204081632653065\n",
            "layer128 일치율 :  48.775510204081634\n"
          ],
          "name": "stdout"
        }
      ]
    }
  ]
}